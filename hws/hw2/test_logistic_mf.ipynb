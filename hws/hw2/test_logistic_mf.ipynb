{
 "cells": [
  {
   "cell_type": "markdown",
   "metadata": {},
   "source": [
    "# testing logistic matrix factorization code"
   ]
  },
  {
   "cell_type": "code",
   "execution_count": 1,
   "metadata": {},
   "outputs": [],
   "source": [
    "%load_ext autoreload\n",
    "%autoreload 2"
   ]
  },
  {
   "cell_type": "code",
   "execution_count": 2,
   "metadata": {},
   "outputs": [],
   "source": [
    "from pathlib import Path\n",
    "import pandas as pd\n",
    "import numpy as np\n",
    "\n",
    "import torch\n",
    "import torch.nn as nn\n",
    "import torch.nn.functional as F"
   ]
  },
  {
   "cell_type": "code",
   "execution_count": 3,
   "metadata": {},
   "outputs": [],
   "source": [
    "from logistic_mf import * "
   ]
  },
  {
   "cell_type": "code",
   "execution_count": 4,
   "metadata": {},
   "outputs": [],
   "source": [
    "# reading a csv into pandas\n",
    "train = pd.read_csv(\"train_books_ratings.csv\")\n",
    "valid = pd.read_csv(\"valid_books_ratings.csv\")"
   ]
  },
  {
   "cell_type": "code",
   "execution_count": 5,
   "metadata": {},
   "outputs": [
    {
     "data": {
      "text/html": [
       "<div>\n",
       "<style scoped>\n",
       "    .dataframe tbody tr th:only-of-type {\n",
       "        vertical-align: middle;\n",
       "    }\n",
       "\n",
       "    .dataframe tbody tr th {\n",
       "        vertical-align: top;\n",
       "    }\n",
       "\n",
       "    .dataframe thead th {\n",
       "        text-align: right;\n",
       "    }\n",
       "</style>\n",
       "<table border=\"1\" class=\"dataframe\">\n",
       "  <thead>\n",
       "    <tr style=\"text-align: right;\">\n",
       "      <th></th>\n",
       "      <th>user</th>\n",
       "      <th>item</th>\n",
       "      <th>rating</th>\n",
       "      <th>timestamp</th>\n",
       "    </tr>\n",
       "  </thead>\n",
       "  <tbody>\n",
       "    <tr>\n",
       "      <th>0</th>\n",
       "      <td>A2E2F4MLVYDGEQ</td>\n",
       "      <td>000100039X</td>\n",
       "      <td>0</td>\n",
       "      <td>1393286400</td>\n",
       "    </tr>\n",
       "    <tr>\n",
       "      <th>1</th>\n",
       "      <td>A386A9WE42M4PG</td>\n",
       "      <td>000100039X</td>\n",
       "      <td>0</td>\n",
       "      <td>1371772800</td>\n",
       "    </tr>\n",
       "    <tr>\n",
       "      <th>2</th>\n",
       "      <td>A1OGQA984MTKBH</td>\n",
       "      <td>000100039X</td>\n",
       "      <td>0</td>\n",
       "      <td>1372118400</td>\n",
       "    </tr>\n",
       "    <tr>\n",
       "      <th>3</th>\n",
       "      <td>A1VVBHGM8DFIZ4</td>\n",
       "      <td>000100039X</td>\n",
       "      <td>0</td>\n",
       "      <td>1387152000</td>\n",
       "    </tr>\n",
       "    <tr>\n",
       "      <th>4</th>\n",
       "      <td>AD6E4Y092Y4KP</td>\n",
       "      <td>000100039X</td>\n",
       "      <td>0</td>\n",
       "      <td>1392336000</td>\n",
       "    </tr>\n",
       "  </tbody>\n",
       "</table>\n",
       "</div>"
      ],
      "text/plain": [
       "             user        item  rating   timestamp\n",
       "0  A2E2F4MLVYDGEQ  000100039X       0  1393286400\n",
       "1  A386A9WE42M4PG  000100039X       0  1371772800\n",
       "2  A1OGQA984MTKBH  000100039X       0  1372118400\n",
       "3  A1VVBHGM8DFIZ4  000100039X       0  1387152000\n",
       "4   AD6E4Y092Y4KP  000100039X       0  1392336000"
      ]
     },
     "execution_count": 5,
     "metadata": {},
     "output_type": "execute_result"
    }
   ],
   "source": [
    "valid.head()"
   ]
  },
  {
   "cell_type": "code",
   "execution_count": 6,
   "metadata": {},
   "outputs": [],
   "source": [
    "train_df = encode_data(train, train=None)"
   ]
  },
  {
   "cell_type": "code",
   "execution_count": 7,
   "metadata": {},
   "outputs": [],
   "source": [
    "valid_df = encode_data(valid, train=train)"
   ]
  },
  {
   "cell_type": "code",
   "execution_count": 8,
   "metadata": {},
   "outputs": [
    {
     "data": {
      "text/html": [
       "<div>\n",
       "<style scoped>\n",
       "    .dataframe tbody tr th:only-of-type {\n",
       "        vertical-align: middle;\n",
       "    }\n",
       "\n",
       "    .dataframe tbody tr th {\n",
       "        vertical-align: top;\n",
       "    }\n",
       "\n",
       "    .dataframe thead th {\n",
       "        text-align: right;\n",
       "    }\n",
       "</style>\n",
       "<table border=\"1\" class=\"dataframe\">\n",
       "  <thead>\n",
       "    <tr style=\"text-align: right;\">\n",
       "      <th></th>\n",
       "      <th>user</th>\n",
       "      <th>item</th>\n",
       "      <th>rating</th>\n",
       "      <th>timestamp</th>\n",
       "    </tr>\n",
       "  </thead>\n",
       "  <tbody>\n",
       "    <tr>\n",
       "      <th>446156</th>\n",
       "      <td>710749</td>\n",
       "      <td>45868</td>\n",
       "      <td>1</td>\n",
       "      <td>1333584000</td>\n",
       "    </tr>\n",
       "    <tr>\n",
       "      <th>446159</th>\n",
       "      <td>590160</td>\n",
       "      <td>45082</td>\n",
       "      <td>1</td>\n",
       "      <td>1335139200</td>\n",
       "    </tr>\n",
       "    <tr>\n",
       "      <th>446161</th>\n",
       "      <td>910780</td>\n",
       "      <td>62851</td>\n",
       "      <td>1</td>\n",
       "      <td>1057881600</td>\n",
       "    </tr>\n",
       "    <tr>\n",
       "      <th>446163</th>\n",
       "      <td>764823</td>\n",
       "      <td>32666</td>\n",
       "      <td>1</td>\n",
       "      <td>1241308800</td>\n",
       "    </tr>\n",
       "    <tr>\n",
       "      <th>446166</th>\n",
       "      <td>345398</td>\n",
       "      <td>325600</td>\n",
       "      <td>1</td>\n",
       "      <td>1378598400</td>\n",
       "    </tr>\n",
       "  </tbody>\n",
       "</table>\n",
       "</div>"
      ],
      "text/plain": [
       "          user    item  rating   timestamp\n",
       "446156  710749   45868       1  1333584000\n",
       "446159  590160   45082       1  1335139200\n",
       "446161  910780   62851       1  1057881600\n",
       "446163  764823   32666       1  1241308800\n",
       "446166  345398  325600       1  1378598400"
      ]
     },
     "execution_count": 8,
     "metadata": {},
     "output_type": "execute_result"
    }
   ],
   "source": [
    "valid_df.tail()"
   ]
  },
  {
   "cell_type": "code",
   "execution_count": 9,
   "metadata": {},
   "outputs": [
    {
     "name": "stdout",
     "output_type": "stream",
     "text": [
      "1312778 659279\n"
     ]
    }
   ],
   "source": [
    "num_users = len(train_df.user.unique())\n",
    "num_items = len(train_df.item.unique())\n",
    "print(num_users, num_items) "
   ]
  },
  {
   "cell_type": "code",
   "execution_count": 10,
   "metadata": {},
   "outputs": [],
   "source": [
    "model = MF(num_users, num_items)"
   ]
  },
  {
   "cell_type": "code",
   "execution_count": 11,
   "metadata": {},
   "outputs": [],
   "source": [
    "u = torch.LongTensor(train_df.user.values[:5])\n",
    "v = torch.LongTensor(train_df.item.values[:5]) "
   ]
  },
  {
   "cell_type": "code",
   "execution_count": 12,
   "metadata": {},
   "outputs": [
    {
     "data": {
      "text/plain": [
       "tensor([0.5128, 0.5193, 0.5154, 0.5170, 0.5178], grad_fn=<SigmoidBackward>)"
      ]
     },
     "execution_count": 12,
     "metadata": {},
     "output_type": "execute_result"
    }
   ],
   "source": [
    "model(u, v)"
   ]
  },
  {
   "cell_type": "code",
   "execution_count": 13,
   "metadata": {},
   "outputs": [],
   "source": [
    "model = MF(num_users, num_items, emb_size=100) "
   ]
  },
  {
   "cell_type": "code",
   "execution_count": 14,
   "metadata": {},
   "outputs": [
    {
     "name": "stdout",
     "output_type": "stream",
     "text": [
      "train loss 0.694 valid loss 0.722 valid acc 0.429\n",
      "train loss 0.674 valid loss 0.639 valid acc 0.764\n",
      "train loss 0.624 valid loss 0.639 valid acc 0.741\n",
      "train loss 0.643 valid loss 0.655 valid acc 0.656\n",
      "train loss 0.663 valid loss 0.641 valid acc 0.675\n",
      "train loss 0.651 valid loss 0.623 valid acc 0.761\n",
      "train loss 0.630 valid loss 0.617 valid acc 0.757\n",
      "train loss 0.615 valid loss 0.619 valid acc 0.681\n",
      "train loss 0.609 valid loss 0.619 valid acc 0.677\n",
      "train loss 0.606 valid loss 0.615 valid acc 0.748\n"
     ]
    }
   ],
   "source": [
    "training(model, train_df, valid_df, epochs=10, lr=0.1, wd=1e-5)"
   ]
  },
  {
   "cell_type": "code",
   "execution_count": 15,
   "metadata": {},
   "outputs": [
    {
     "name": "stdout",
     "output_type": "stream",
     "text": [
      "train loss 0.608 valid loss 0.613 valid acc 0.766\n",
      "train loss 0.611 valid loss 0.614 valid acc 0.772\n",
      "train loss 0.615 valid loss 0.614 valid acc 0.772\n",
      "train loss 0.618 valid loss 0.615 valid acc 0.771\n",
      "train loss 0.621 valid loss 0.616 valid acc 0.768\n",
      "train loss 0.622 valid loss 0.616 valid acc 0.768\n",
      "train loss 0.622 valid loss 0.616 valid acc 0.771\n",
      "train loss 0.621 valid loss 0.615 valid acc 0.773\n",
      "train loss 0.619 valid loss 0.615 valid acc 0.774\n",
      "train loss 0.618 valid loss 0.614 valid acc 0.774\n",
      "train loss 0.616 valid loss 0.614 valid acc 0.774\n",
      "train loss 0.615 valid loss 0.614 valid acc 0.774\n",
      "train loss 0.614 valid loss 0.614 valid acc 0.774\n",
      "train loss 0.614 valid loss 0.614 valid acc 0.774\n",
      "train loss 0.614 valid loss 0.614 valid acc 0.773\n"
     ]
    }
   ],
   "source": [
    "training(model, train_df, valid_df, epochs=15, lr=0.01, wd=1e-5)"
   ]
  },
  {
   "cell_type": "code",
   "execution_count": null,
   "metadata": {},
   "outputs": [],
   "source": []
  }
 ],
 "metadata": {
  "kernelspec": {
   "display_name": "Python 3 (ipykernel)",
   "language": "python",
   "name": "python3"
  },
  "language_info": {
   "codemirror_mode": {
    "name": "ipython",
    "version": 3
   },
   "file_extension": ".py",
   "mimetype": "text/x-python",
   "name": "python",
   "nbconvert_exporter": "python",
   "pygments_lexer": "ipython3",
   "version": "3.9.10"
  },
  "toc": {
   "nav_menu": {},
   "number_sections": true,
   "sideBar": true,
   "skip_h1_title": false,
   "toc_cell": false,
   "toc_position": {},
   "toc_section_display": "block",
   "toc_window_display": false
  }
 },
 "nbformat": 4,
 "nbformat_minor": 4
}
