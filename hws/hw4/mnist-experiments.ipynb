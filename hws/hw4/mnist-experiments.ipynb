{
 "cells": [
  {
   "cell_type": "markdown",
   "metadata": {},
   "source": [
    "# Neural Networks for MNIST dataset"
   ]
  },
  {
   "cell_type": "code",
   "execution_count": 17,
   "metadata": {},
   "outputs": [],
   "source": [
    "import argparse\n",
    "import torch\n",
    "import torch.nn as nn\n",
    "import torch.nn.functional as F\n",
    "import torch.optim as optim\n",
    "from torchvision import datasets, transforms\n",
    "from torch.utils.data import Dataset\n",
    "import numpy as np\n",
    "from tqdm import tqdm\n",
    "import pandas as pd"
   ]
  },
  {
   "cell_type": "code",
   "execution_count": 2,
   "metadata": {},
   "outputs": [],
   "source": [
    "import matplotlib\n",
    "import matplotlib.pyplot as plt\n",
    "%matplotlib inline"
   ]
  },
  {
   "cell_type": "markdown",
   "metadata": {},
   "source": [
    "## Loading MNIST\n",
    "Here we load the dataset and create data loaders."
   ]
  },
  {
   "cell_type": "code",
   "execution_count": 3,
   "metadata": {},
   "outputs": [
    {
     "name": "stdout",
     "output_type": "stream",
     "text": [
      "Downloading http://yann.lecun.com/exdb/mnist/train-images-idx3-ubyte.gz\n",
      "Downloading http://yann.lecun.com/exdb/mnist/train-images-idx3-ubyte.gz to data/MNIST/raw/train-images-idx3-ubyte.gz\n"
     ]
    },
    {
     "data": {
      "application/vnd.jupyter.widget-view+json": {
       "model_id": "e27534cce58e48bba538e2b7a86c2981",
       "version_major": 2,
       "version_minor": 0
      },
      "text/plain": [
       "  0%|          | 0/9912422 [00:00<?, ?it/s]"
      ]
     },
     "metadata": {},
     "output_type": "display_data"
    },
    {
     "name": "stdout",
     "output_type": "stream",
     "text": [
      "Extracting data/MNIST/raw/train-images-idx3-ubyte.gz to data/MNIST/raw\n",
      "\n",
      "Downloading http://yann.lecun.com/exdb/mnist/train-labels-idx1-ubyte.gz\n",
      "Downloading http://yann.lecun.com/exdb/mnist/train-labels-idx1-ubyte.gz to data/MNIST/raw/train-labels-idx1-ubyte.gz\n"
     ]
    },
    {
     "data": {
      "application/vnd.jupyter.widget-view+json": {
       "model_id": "d75bae60617f40fc8ca800684c10214c",
       "version_major": 2,
       "version_minor": 0
      },
      "text/plain": [
       "  0%|          | 0/28881 [00:00<?, ?it/s]"
      ]
     },
     "metadata": {},
     "output_type": "display_data"
    },
    {
     "name": "stdout",
     "output_type": "stream",
     "text": [
      "Extracting data/MNIST/raw/train-labels-idx1-ubyte.gz to data/MNIST/raw\n",
      "\n",
      "Downloading http://yann.lecun.com/exdb/mnist/t10k-images-idx3-ubyte.gz\n",
      "Downloading http://yann.lecun.com/exdb/mnist/t10k-images-idx3-ubyte.gz to data/MNIST/raw/t10k-images-idx3-ubyte.gz\n"
     ]
    },
    {
     "data": {
      "application/vnd.jupyter.widget-view+json": {
       "model_id": "d7cf1a697f1545f5a71e2942700e1f0f",
       "version_major": 2,
       "version_minor": 0
      },
      "text/plain": [
       "  0%|          | 0/1648877 [00:00<?, ?it/s]"
      ]
     },
     "metadata": {},
     "output_type": "display_data"
    },
    {
     "name": "stdout",
     "output_type": "stream",
     "text": [
      "Extracting data/MNIST/raw/t10k-images-idx3-ubyte.gz to data/MNIST/raw\n",
      "\n",
      "Downloading http://yann.lecun.com/exdb/mnist/t10k-labels-idx1-ubyte.gz\n",
      "Downloading http://yann.lecun.com/exdb/mnist/t10k-labels-idx1-ubyte.gz to data/MNIST/raw/t10k-labels-idx1-ubyte.gz\n"
     ]
    },
    {
     "data": {
      "application/vnd.jupyter.widget-view+json": {
       "model_id": "640906b2291d4df48ee8a3f5c63f006e",
       "version_major": 2,
       "version_minor": 0
      },
      "text/plain": [
       "  0%|          | 0/4542 [00:00<?, ?it/s]"
      ]
     },
     "metadata": {},
     "output_type": "display_data"
    },
    {
     "name": "stdout",
     "output_type": "stream",
     "text": [
      "Extracting data/MNIST/raw/t10k-labels-idx1-ubyte.gz to data/MNIST/raw\n",
      "\n"
     ]
    }
   ],
   "source": [
    "train_ds = datasets.MNIST('data', train=True, download=True, \n",
    "                       transform=transforms.Compose([\n",
    "                       transforms.ToTensor(),\n",
    "                       transforms.Normalize((0.1307,), (0.3081,))\n",
    "                   ]))\n",
    "test_ds = datasets.MNIST('data', train=False, download=True, \n",
    "                       transform=transforms.Compose([\n",
    "                       transforms.ToTensor(),\n",
    "                       transforms.Normalize((0.1307,), (0.3081,))\n",
    "                   ]))"
   ]
  },
  {
   "cell_type": "code",
   "execution_count": 4,
   "metadata": {},
   "outputs": [],
   "source": [
    "batch_size = 32\n",
    "#batch_size = 5 # for testing\n",
    "kwargs = {'num_workers': 1, 'pin_memory': True} \n",
    "\n",
    "train_loader = torch.utils.data.DataLoader(train_ds, batch_size=batch_size, shuffle=True, **kwargs)\n",
    "test_loader = torch.utils.data.DataLoader(test_ds, batch_size=batch_size, shuffle=False, **kwargs)"
   ]
  },
  {
   "cell_type": "markdown",
   "metadata": {},
   "source": [
    "## Looking at Examples"
   ]
  },
  {
   "cell_type": "code",
   "execution_count": 5,
   "metadata": {},
   "outputs": [],
   "source": [
    "train_dl = iter(train_loader)\n",
    "x, y = next(train_dl)"
   ]
  },
  {
   "cell_type": "code",
   "execution_count": 6,
   "metadata": {},
   "outputs": [
    {
     "name": "stdout",
     "output_type": "stream",
     "text": [
      "torch.Size([32, 1, 28, 28]) torch.Size([32])\n"
     ]
    }
   ],
   "source": [
    "print(x.shape, y.shape)"
   ]
  },
  {
   "cell_type": "markdown",
   "metadata": {},
   "source": [
    "Looking are images"
   ]
  },
  {
   "cell_type": "code",
   "execution_count": 7,
   "metadata": {},
   "outputs": [],
   "source": [
    "def show(img, title=None):\n",
    "    plt.imshow(img, interpolation='none', cmap=\"gray\")\n",
    "    if title is not None: plt.title(title)"
   ]
  },
  {
   "cell_type": "code",
   "execution_count": 8,
   "metadata": {},
   "outputs": [
    {
     "data": {
      "text/plain": [
       "(32, 1, 28, 28)"
      ]
     },
     "execution_count": 8,
     "metadata": {},
     "output_type": "execute_result"
    }
   ],
   "source": [
    "# first from torch to numpy\n",
    "X = x.numpy(); Y = y.numpy()\n",
    "X.shape"
   ]
  },
  {
   "cell_type": "code",
   "execution_count": 9,
   "metadata": {},
   "outputs": [
    {
     "data": {
      "image/png": "[encoded data removed]",
      "text/plain": [
       "<Figure size 432x288 with 1 Axes>"
      ]
     },
     "metadata": {
      "needs_background": "light"
     },
     "output_type": "display_data"
    }
   ],
   "source": [
    "show(X[0][0], Y[0])"
   ]
  },
  {
   "cell_type": "code",
   "execution_count": 10,
   "metadata": {},
   "outputs": [
    {
     "name": "stdout",
     "output_type": "stream",
     "text": [
      "[[-0.42421296 -0.42421296 -0.42421296 -0.42421296 -0.42421296 -0.42421296\n",
      "  -0.42421296 -0.42421296 -0.42421296 -0.42421296 -0.42421296 -0.42421296\n",
      "  -0.42421296 -0.42421296 -0.42421296 -0.42421296 -0.42421296 -0.42421296\n",
      "  -0.42421296 -0.42421296 -0.42421296 -0.42421296 -0.42421296 -0.42421296\n",
      "  -0.42421296 -0.42421296 -0.42421296 -0.42421296]\n",
      " [-0.42421296 -0.42421296 -0.42421296 -0.42421296 -0.42421296 -0.42421296\n",
      "  -0.42421296 -0.42421296 -0.42421296 -0.42421296 -0.42421296 -0.42421296\n",
      "  -0.42421296 -0.42421296 -0.42421296 -0.42421296 -0.42421296 -0.42421296\n",
      "  -0.42421296 -0.42421296 -0.42421296 -0.42421296 -0.42421296 -0.42421296\n",
      "  -0.42421296 -0.42421296 -0.42421296 -0.42421296]\n",
      " [-0.42421296 -0.42421296 -0.42421296 -0.42421296 -0.42421296 -0.42421296\n",
      "  -0.42421296 -0.42421296 -0.42421296 -0.42421296 -0.42421296 -0.42421296\n",
      "  -0.42421296 -0.42421296 -0.42421296 -0.42421296 -0.42421296 -0.42421296\n",
      "  -0.42421296 -0.42421296 -0.42421296 -0.42421296 -0.42421296 -0.42421296\n",
      "  -0.42421296 -0.42421296 -0.42421296 -0.42421296]\n",
      " [-0.42421296 -0.42421296 -0.42421296 -0.42421296 -0.42421296 -0.42421296\n",
      "  -0.42421296 -0.42421296 -0.42421296 -0.42421296 -0.42421296 -0.42421296\n",
      "  -0.42421296 -0.42421296 -0.42421296 -0.42421296 -0.42421296 -0.42421296\n",
      "  -0.42421296 -0.42421296 -0.42421296 -0.42421296 -0.42421296 -0.42421296\n",
      "  -0.42421296 -0.42421296 -0.42421296 -0.42421296]]\n"
     ]
    }
   ],
   "source": [
    "print(X[0][0][:4][:4])"
   ]
  },
  {
   "cell_type": "markdown",
   "metadata": {},
   "source": [
    "## Feed Forward Neural Network"
   ]
  },
  {
   "cell_type": "code",
   "execution_count": 33,
   "metadata": {},
   "outputs": [],
   "source": [
    "# for the number of neurons in the hidden unit\n",
    "def get_model(M = 300):\n",
    "    net = nn.Sequential(nn.Linear(28*28, M),\n",
    "                        nn.ReLU(),\n",
    "                        nn.Linear(M, 10))\n",
    "    return net #.cuda()"
   ]
  },
  {
   "cell_type": "code",
   "execution_count": 34,
   "metadata": {},
   "outputs": [],
   "source": [
    "def train_model(train_loader, test_loader, num_epochs, model, optimizer):\n",
    "    #model.train()\n",
    "    for epoch in range(num_epochs):\n",
    "        model.train()\n",
    "        sum_loss = 0.0\n",
    "        total = 0\n",
    "        for i, (images, labels) in enumerate(train_loader):  \n",
    "            batch = images.shape[0] # size of the batch\n",
    "            # Convert torch tensor to Variable, change shape of the input\n",
    "            images = images.view(-1, 28*28) #.cuda()\n",
    "        \n",
    "            # Forward + Backward + Optimize\n",
    "            optimizer.zero_grad()  # zero the gradient buffer\n",
    "            outputs = model(images)\n",
    "            loss = F.cross_entropy(outputs, labels)\n",
    "            loss.backward()\n",
    "            optimizer.step()\n",
    "        \n",
    "            total += batch\n",
    "            sum_loss += batch * loss.item()\n",
    "                \n",
    "        train_loss = sum_loss/total\n",
    "        print('Epoch [%d/%d], Loss: %.4f' %(epoch+1, num_epochs, train_loss))\n",
    "        val_acc, val_loss = model_accuracy_loss(model, test_loader)\n",
    "        print('Epoch [%d/%d], Valid Accuracy: %.4f, Valid Loss: %.4f' %(epoch+1, num_epochs, val_acc, val_loss))\n",
    "    return val_acc, val_loss, train_loss"
   ]
  },
  {
   "cell_type": "code",
   "execution_count": 35,
   "metadata": {},
   "outputs": [],
   "source": [
    "def model_accuracy_loss(model, test_loader):\n",
    "    model.eval()\n",
    "    correct = 0\n",
    "    sum_loss = 0.0\n",
    "    total = 0\n",
    "    for images, labels in test_loader:\n",
    "        images = images.view(-1, 28*28)  #.cuda()\n",
    "        outputs = model(images)\n",
    "        _, pred = torch.max(outputs.data, 1)\n",
    "        loss = F.cross_entropy(outputs, labels)\n",
    "        sum_loss += labels.size(0)*loss.item()\n",
    "        total += labels.size(0)\n",
    "        correct += pred.eq(labels.data).sum().item()\n",
    "    return 100 * correct / total, sum_loss/ total"
   ]
  },
  {
   "cell_type": "code",
   "execution_count": 36,
   "metadata": {},
   "outputs": [
    {
     "data": {
      "text/plain": [
       "(10.75, 2.338864084625244)"
      ]
     },
     "execution_count": 36,
     "metadata": {},
     "output_type": "execute_result"
    }
   ],
   "source": [
    "net = get_model()\n",
    "learning_rate = 0.01\n",
    "optimizer = optim.Adam(net.parameters(), lr=learning_rate)\n",
    "model_accuracy_loss(net, test_loader)"
   ]
  },
  {
   "cell_type": "code",
   "execution_count": 37,
   "metadata": {},
   "outputs": [
    {
     "name": "stdout",
     "output_type": "stream",
     "text": [
      "Epoch [1/2], Loss: 0.3492\n",
      "Epoch [1/2], Valid Accuracy: 91.5300, Valid Loss: 0.3213\n",
      "Epoch [2/2], Loss: 0.2775\n",
      "Epoch [2/2], Valid Accuracy: 92.4200, Valid Loss: 0.2762\n"
     ]
    }
   ],
   "source": [
    "val_acc, val_loss, train_loss = train_model(train_loader, test_loader, num_epochs=2, model=net, optimizer=optimizer)"
   ]
  },
  {
   "cell_type": "markdown",
   "metadata": {},
   "source": [
    "---\n",
    "# Q1"
   ]
  },
  {
   "cell_type": "code",
   "execution_count": 38,
   "metadata": {},
   "outputs": [],
   "source": [
    "def find_bt_lr():\n",
    "    lr = [1, 0.1, 0.01, 0.001, 0.0001, 0.00001]\n",
    "    val_accrarcy =[]\n",
    "    for l in tqdm(lr):\n",
    "        print('='*50)\n",
    "        net = get_model()\n",
    "        optimizer = optim.Adam(net.parameters(), lr=l)\n",
    "        val_acc, val_loss, train_loss = train_model(train_loader, test_loader, num_epochs=10, model=net, optimizer=optimizer)\n",
    "        val_accrarcy.append(val_acc)\n",
    "        print('='*50)\n",
    "    dic = {'lr':lr,'val_accrarcy':val_accrarcy}\n",
    "    return pd.DataFrame.from_dict(dic)"
   ]
  },
  {
   "cell_type": "code",
   "execution_count": 39,
   "metadata": {
    "tags": []
   },
   "outputs": [
    {
     "name": "stderr",
     "output_type": "stream",
     "text": [
      "  0%|                                      | 0/6 [00:00<?, ?it/s]"
     ]
    },
    {
     "name": "stdout",
     "output_type": "stream",
     "text": [
      "==================================================\n",
      "Epoch [1/10], Loss: 66.9753\n",
      "Epoch [1/10], Valid Accuracy: 11.3800, Valid Loss: 2.6099\n",
      "Epoch [2/10], Loss: 2.8933\n",
      "Epoch [2/10], Valid Accuracy: 10.6700, Valid Loss: 2.3852\n",
      "Epoch [3/10], Loss: 2.8546\n",
      "Epoch [3/10], Valid Accuracy: 11.3800, Valid Loss: 2.4327\n",
      "Epoch [4/10], Loss: 2.4128\n",
      "Epoch [4/10], Valid Accuracy: 10.1200, Valid Loss: 2.4191\n",
      "Epoch [5/10], Loss: 2.4074\n",
      "Epoch [5/10], Valid Accuracy: 9.8400, Valid Loss: 2.3470\n",
      "Epoch [6/10], Loss: 2.4051\n",
      "Epoch [6/10], Valid Accuracy: 10.3100, Valid Loss: 2.4461\n",
      "Epoch [7/10], Loss: 2.4115\n",
      "Epoch [7/10], Valid Accuracy: 9.8400, Valid Loss: 2.3456\n",
      "Epoch [8/10], Loss: 2.4066\n",
      "Epoch [8/10], Valid Accuracy: 8.9500, Valid Loss: 2.4370\n",
      "Epoch [9/10], Loss: 2.4066\n",
      "Epoch [9/10], Valid Accuracy: 8.9500, Valid Loss: 2.5756\n",
      "Epoch [10/10], Loss: 2.4077\n"
     ]
    },
    {
     "name": "stderr",
     "output_type": "stream",
     "text": [
      " 17%|█████                         | 1/6 [01:09<05:49, 69.93s/it]"
     ]
    },
    {
     "name": "stdout",
     "output_type": "stream",
     "text": [
      "Epoch [10/10], Valid Accuracy: 10.3100, Valid Loss: 2.3882\n",
      "==================================================\n",
      "==================================================\n",
      "Epoch [1/10], Loss: 2.6296\n",
      "Epoch [1/10], Valid Accuracy: 9.8600, Valid Loss: 2.3080\n",
      "Epoch [2/10], Loss: 2.3282\n",
      "Epoch [2/10], Valid Accuracy: 9.7500, Valid Loss: 2.3289\n",
      "Epoch [3/10], Loss: 2.3167\n",
      "Epoch [3/10], Valid Accuracy: 11.3600, Valid Loss: 2.3120\n",
      "Epoch [4/10], Loss: 2.3138\n",
      "Epoch [4/10], Valid Accuracy: 8.9300, Valid Loss: 2.3191\n",
      "Epoch [5/10], Loss: 2.3139\n",
      "Epoch [5/10], Valid Accuracy: 10.1000, Valid Loss: 2.3098\n",
      "Epoch [6/10], Loss: 2.3141\n",
      "Epoch [6/10], Valid Accuracy: 9.7500, Valid Loss: 2.3159\n",
      "Epoch [7/10], Loss: 2.3142\n",
      "Epoch [7/10], Valid Accuracy: 9.8300, Valid Loss: 2.3102\n",
      "Epoch [8/10], Loss: 2.3127\n",
      "Epoch [8/10], Valid Accuracy: 10.1100, Valid Loss: 2.3105\n",
      "Epoch [9/10], Loss: 2.3144\n",
      "Epoch [9/10], Valid Accuracy: 9.8300, Valid Loss: 2.3103\n",
      "Epoch [10/10], Loss: 2.3145\n"
     ]
    },
    {
     "name": "stderr",
     "output_type": "stream",
     "text": [
      " 33%|██████████                    | 2/6 [02:20<04:40, 70.18s/it]"
     ]
    },
    {
     "name": "stdout",
     "output_type": "stream",
     "text": [
      "Epoch [10/10], Valid Accuracy: 11.3600, Valid Loss: 2.3115\n",
      "==================================================\n",
      "==================================================\n",
      "Epoch [1/10], Loss: 0.3427\n",
      "Epoch [1/10], Valid Accuracy: 92.0500, Valid Loss: 0.2907\n",
      "Epoch [2/10], Loss: 0.2597\n",
      "Epoch [2/10], Valid Accuracy: 93.6700, Valid Loss: 0.2590\n",
      "Epoch [3/10], Loss: 0.2418\n",
      "Epoch [3/10], Valid Accuracy: 91.4800, Valid Loss: 0.3078\n",
      "Epoch [4/10], Loss: 0.2446\n",
      "Epoch [4/10], Valid Accuracy: 92.8900, Valid Loss: 0.3385\n",
      "Epoch [5/10], Loss: 0.2331\n",
      "Epoch [5/10], Valid Accuracy: 93.8100, Valid Loss: 0.2977\n",
      "Epoch [6/10], Loss: 0.2313\n",
      "Epoch [6/10], Valid Accuracy: 93.8200, Valid Loss: 0.2795\n",
      "Epoch [7/10], Loss: 0.2144\n",
      "Epoch [7/10], Valid Accuracy: 93.4900, Valid Loss: 0.3194\n",
      "Epoch [8/10], Loss: 0.2170\n",
      "Epoch [8/10], Valid Accuracy: 94.0000, Valid Loss: 0.3087\n",
      "Epoch [9/10], Loss: 0.2179\n",
      "Epoch [9/10], Valid Accuracy: 94.2000, Valid Loss: 0.3093\n",
      "Epoch [10/10], Loss: 0.2138\n"
     ]
    },
    {
     "name": "stderr",
     "output_type": "stream",
     "text": [
      " 50%|███████████████               | 3/6 [03:30<03:30, 70.31s/it]"
     ]
    },
    {
     "name": "stdout",
     "output_type": "stream",
     "text": [
      "Epoch [10/10], Valid Accuracy: 93.8500, Valid Loss: 0.3209\n",
      "==================================================\n",
      "==================================================\n",
      "Epoch [1/10], Loss: 0.2020\n",
      "Epoch [1/10], Valid Accuracy: 95.2700, Valid Loss: 0.1463\n",
      "Epoch [2/10], Loss: 0.0882\n",
      "Epoch [2/10], Valid Accuracy: 97.0900, Valid Loss: 0.0899\n",
      "Epoch [3/10], Loss: 0.0646\n",
      "Epoch [3/10], Valid Accuracy: 97.1100, Valid Loss: 0.0977\n",
      "Epoch [4/10], Loss: 0.0489\n",
      "Epoch [4/10], Valid Accuracy: 97.1400, Valid Loss: 0.0978\n",
      "Epoch [5/10], Loss: 0.0387\n",
      "Epoch [5/10], Valid Accuracy: 97.3200, Valid Loss: 0.0943\n",
      "Epoch [6/10], Loss: 0.0338\n",
      "Epoch [6/10], Valid Accuracy: 97.8000, Valid Loss: 0.0902\n",
      "Epoch [7/10], Loss: 0.0284\n",
      "Epoch [7/10], Valid Accuracy: 97.9900, Valid Loss: 0.0814\n",
      "Epoch [8/10], Loss: 0.0252\n",
      "Epoch [8/10], Valid Accuracy: 97.9700, Valid Loss: 0.0971\n",
      "Epoch [9/10], Loss: 0.0226\n",
      "Epoch [9/10], Valid Accuracy: 97.7700, Valid Loss: 0.0968\n",
      "Epoch [10/10], Loss: 0.0219\n"
     ]
    },
    {
     "name": "stderr",
     "output_type": "stream",
     "text": [
      " 67%|████████████████████          | 4/6 [04:41<02:21, 70.52s/it]"
     ]
    },
    {
     "name": "stdout",
     "output_type": "stream",
     "text": [
      "Epoch [10/10], Valid Accuracy: 97.4800, Valid Loss: 0.1305\n",
      "==================================================\n",
      "==================================================\n",
      "Epoch [1/10], Loss: 0.4047\n",
      "Epoch [1/10], Valid Accuracy: 93.4200, Valid Loss: 0.2282\n",
      "Epoch [2/10], Loss: 0.1982\n",
      "Epoch [2/10], Valid Accuracy: 95.1400, Valid Loss: 0.1696\n",
      "Epoch [3/10], Loss: 0.1451\n",
      "Epoch [3/10], Valid Accuracy: 96.3300, Valid Loss: 0.1297\n",
      "Epoch [4/10], Loss: 0.1135\n",
      "Epoch [4/10], Valid Accuracy: 96.9500, Valid Loss: 0.1071\n",
      "Epoch [5/10], Loss: 0.0917\n",
      "Epoch [5/10], Valid Accuracy: 97.1400, Valid Loss: 0.0957\n",
      "Epoch [6/10], Loss: 0.0763\n",
      "Epoch [6/10], Valid Accuracy: 97.4900, Valid Loss: 0.0856\n",
      "Epoch [7/10], Loss: 0.0643\n",
      "Epoch [7/10], Valid Accuracy: 97.5800, Valid Loss: 0.0782\n",
      "Epoch [8/10], Loss: 0.0548\n",
      "Epoch [8/10], Valid Accuracy: 97.6200, Valid Loss: 0.0794\n",
      "Epoch [9/10], Loss: 0.0471\n",
      "Epoch [9/10], Valid Accuracy: 97.7900, Valid Loss: 0.0728\n",
      "Epoch [10/10], Loss: 0.0403\n"
     ]
    },
    {
     "name": "stderr",
     "output_type": "stream",
     "text": [
      " 83%|█████████████████████████     | 5/6 [05:54<01:11, 71.41s/it]"
     ]
    },
    {
     "name": "stdout",
     "output_type": "stream",
     "text": [
      "Epoch [10/10], Valid Accuracy: 97.9700, Valid Loss: 0.0655\n",
      "==================================================\n",
      "==================================================\n",
      "Epoch [1/10], Loss: 1.1255\n",
      "Epoch [1/10], Valid Accuracy: 87.4900, Valid Loss: 0.5720\n",
      "Epoch [2/10], Loss: 0.4781\n",
      "Epoch [2/10], Valid Accuracy: 90.0500, Valid Loss: 0.3915\n",
      "Epoch [3/10], Loss: 0.3728\n",
      "Epoch [3/10], Valid Accuracy: 91.0900, Valid Loss: 0.3326\n",
      "Epoch [4/10], Loss: 0.3275\n",
      "Epoch [4/10], Valid Accuracy: 91.5900, Valid Loss: 0.3005\n",
      "Epoch [5/10], Loss: 0.2998\n",
      "Epoch [5/10], Valid Accuracy: 92.1900, Valid Loss: 0.2787\n",
      "Epoch [6/10], Loss: 0.2794\n",
      "Epoch [6/10], Valid Accuracy: 92.5500, Valid Loss: 0.2621\n",
      "Epoch [7/10], Loss: 0.2630\n",
      "Epoch [7/10], Valid Accuracy: 92.8100, Valid Loss: 0.2498\n",
      "Epoch [8/10], Loss: 0.2491\n",
      "Epoch [8/10], Valid Accuracy: 93.1500, Valid Loss: 0.2376\n",
      "Epoch [9/10], Loss: 0.2366\n",
      "Epoch [9/10], Valid Accuracy: 93.4200, Valid Loss: 0.2267\n",
      "Epoch [10/10], Loss: 0.2256\n"
     ]
    },
    {
     "name": "stderr",
     "output_type": "stream",
     "text": [
      "100%|██████████████████████████████| 6/6 [07:05<00:00, 70.89s/it]"
     ]
    },
    {
     "name": "stdout",
     "output_type": "stream",
     "text": [
      "Epoch [10/10], Valid Accuracy: 93.7900, Valid Loss: 0.2177\n",
      "==================================================\n"
     ]
    },
    {
     "name": "stderr",
     "output_type": "stream",
     "text": [
      "\n"
     ]
    },
    {
     "data": {
      "text/html": [
       "<div>\n",
       "<style scoped>\n",
       "    .dataframe tbody tr th:only-of-type {\n",
       "        vertical-align: middle;\n",
       "    }\n",
       "\n",
       "    .dataframe tbody tr th {\n",
       "        vertical-align: top;\n",
       "    }\n",
       "\n",
       "    .dataframe thead th {\n",
       "        text-align: right;\n",
       "    }\n",
       "</style>\n",
       "<table border=\"1\" class=\"dataframe\">\n",
       "  <thead>\n",
       "    <tr style=\"text-align: right;\">\n",
       "      <th></th>\n",
       "      <th>lr</th>\n",
       "      <th>val_accrarcy</th>\n",
       "    </tr>\n",
       "  </thead>\n",
       "  <tbody>\n",
       "    <tr>\n",
       "      <th>0</th>\n",
       "      <td>1.00000</td>\n",
       "      <td>10.31</td>\n",
       "    </tr>\n",
       "    <tr>\n",
       "      <th>1</th>\n",
       "      <td>0.10000</td>\n",
       "      <td>11.36</td>\n",
       "    </tr>\n",
       "    <tr>\n",
       "      <th>2</th>\n",
       "      <td>0.01000</td>\n",
       "      <td>93.85</td>\n",
       "    </tr>\n",
       "    <tr>\n",
       "      <th>3</th>\n",
       "      <td>0.00100</td>\n",
       "      <td>97.48</td>\n",
       "    </tr>\n",
       "    <tr>\n",
       "      <th>4</th>\n",
       "      <td>0.00010</td>\n",
       "      <td>97.97</td>\n",
       "    </tr>\n",
       "    <tr>\n",
       "      <th>5</th>\n",
       "      <td>0.00001</td>\n",
       "      <td>93.79</td>\n",
       "    </tr>\n",
       "  </tbody>\n",
       "</table>\n",
       "</div>"
      ],
      "text/plain": [
       "        lr  val_accrarcy\n",
       "0  1.00000         10.31\n",
       "1  0.10000         11.36\n",
       "2  0.01000         93.85\n",
       "3  0.00100         97.48\n",
       "4  0.00010         97.97\n",
       "5  0.00001         93.79"
      ]
     },
     "execution_count": 39,
     "metadata": {},
     "output_type": "execute_result"
    }
   ],
   "source": [
    "q1df = find_bt_lr()\n",
    "q1df"
   ]
  },
  {
   "cell_type": "markdown",
   "metadata": {},
   "source": [
    "> From above table we can see the two best learning rates are 0.001 and 0.0001."
   ]
  },
  {
   "cell_type": "markdown",
   "metadata": {},
   "source": [
    "---"
   ]
  },
  {
   "cell_type": "markdown",
   "metadata": {},
   "source": [
    "# Q2"
   ]
  },
  {
   "cell_type": "code",
   "execution_count": 42,
   "metadata": {},
   "outputs": [],
   "source": [
    "def find_bt_hl():\n",
    "    hidden_layer = [10, 50, 100, 300, 1000, 2000]\n",
    "    val_accrarcy =[]\n",
    "    for h in tqdm(hidden_layer):\n",
    "        print('='*50)\n",
    "        net = get_model(M = h)\n",
    "        optimizer = optim.Adam(net.parameters(), lr=0.01)\n",
    "        val_acc, val_loss, train_loss = train_model(train_loader, test_loader, num_epochs=10, model=net, optimizer=optimizer)\n",
    "        val_accrarcy.append(val_acc)\n",
    "        print('='*50)\n",
    "    dic = {'hidden_layer':hidden_layer,'val_accrarcy':val_accrarcy}\n",
    "    return pd.DataFrame.from_dict(dic)"
   ]
  },
  {
   "cell_type": "code",
   "execution_count": 43,
   "metadata": {
    "tags": []
   },
   "outputs": [
    {
     "name": "stderr",
     "output_type": "stream",
     "text": [
      "  0%|                                      | 0/6 [00:00<?, ?it/s]"
     ]
    },
    {
     "name": "stdout",
     "output_type": "stream",
     "text": [
      "==================================================\n",
      "Epoch [1/10], Loss: 0.5020\n",
      "Epoch [1/10], Valid Accuracy: 83.7100, Valid Loss: 0.5345\n",
      "Epoch [2/10], Loss: 0.4400\n",
      "Epoch [2/10], Valid Accuracy: 86.5800, Valid Loss: 0.4483\n",
      "Epoch [3/10], Loss: 0.4321\n",
      "Epoch [3/10], Valid Accuracy: 89.5100, Valid Loss: 0.3873\n",
      "Epoch [4/10], Loss: 0.4286\n",
      "Epoch [4/10], Valid Accuracy: 86.0600, Valid Loss: 0.4828\n",
      "Epoch [5/10], Loss: 0.4229\n",
      "Epoch [5/10], Valid Accuracy: 89.0400, Valid Loss: 0.3993\n",
      "Epoch [6/10], Loss: 0.4194\n",
      "Epoch [6/10], Valid Accuracy: 88.6800, Valid Loss: 0.4087\n",
      "Epoch [7/10], Loss: 0.4184\n",
      "Epoch [7/10], Valid Accuracy: 87.3800, Valid Loss: 0.4365\n",
      "Epoch [8/10], Loss: 0.4152\n",
      "Epoch [8/10], Valid Accuracy: 88.2200, Valid Loss: 0.4152\n",
      "Epoch [9/10], Loss: 0.4154\n",
      "Epoch [9/10], Valid Accuracy: 85.7200, Valid Loss: 0.4974\n",
      "Epoch [10/10], Loss: 0.4076\n"
     ]
    },
    {
     "name": "stderr",
     "output_type": "stream",
     "text": [
      " 17%|█████                         | 1/6 [01:07<05:35, 67.06s/it]"
     ]
    },
    {
     "name": "stdout",
     "output_type": "stream",
     "text": [
      "Epoch [10/10], Valid Accuracy: 87.3700, Valid Loss: 0.4612\n",
      "==================================================\n",
      "==================================================\n",
      "Epoch [1/10], Loss: 0.3322\n",
      "Epoch [1/10], Valid Accuracy: 92.4300, Valid Loss: 0.2815\n",
      "Epoch [2/10], Loss: 0.2697\n",
      "Epoch [2/10], Valid Accuracy: 93.3100, Valid Loss: 0.2520\n",
      "Epoch [3/10], Loss: 0.2615\n",
      "Epoch [3/10], Valid Accuracy: 92.4800, Valid Loss: 0.3069\n",
      "Epoch [4/10], Loss: 0.2534\n",
      "Epoch [4/10], Valid Accuracy: 92.8600, Valid Loss: 0.3222\n",
      "Epoch [5/10], Loss: 0.2469\n",
      "Epoch [5/10], Valid Accuracy: 92.8100, Valid Loss: 0.3034\n",
      "Epoch [6/10], Loss: 0.2457\n",
      "Epoch [6/10], Valid Accuracy: 92.9800, Valid Loss: 0.3069\n",
      "Epoch [7/10], Loss: 0.2451\n",
      "Epoch [7/10], Valid Accuracy: 92.0900, Valid Loss: 0.3249\n",
      "Epoch [8/10], Loss: 0.2469\n",
      "Epoch [8/10], Valid Accuracy: 93.4600, Valid Loss: 0.3026\n",
      "Epoch [9/10], Loss: 0.2458\n",
      "Epoch [9/10], Valid Accuracy: 93.0200, Valid Loss: 0.3348\n",
      "Epoch [10/10], Loss: 0.2366\n"
     ]
    },
    {
     "name": "stderr",
     "output_type": "stream",
     "text": [
      " 33%|██████████                    | 2/6 [02:14<04:28, 67.06s/it]"
     ]
    },
    {
     "name": "stdout",
     "output_type": "stream",
     "text": [
      "Epoch [10/10], Valid Accuracy: 93.6300, Valid Loss: 0.3145\n",
      "==================================================\n",
      "==================================================\n",
      "Epoch [1/10], Loss: 0.3301\n",
      "Epoch [1/10], Valid Accuracy: 92.8400, Valid Loss: 0.2743\n",
      "Epoch [2/10], Loss: 0.2621\n",
      "Epoch [2/10], Valid Accuracy: 94.5100, Valid Loss: 0.2451\n",
      "Epoch [3/10], Loss: 0.2561\n",
      "Epoch [3/10], Valid Accuracy: 91.8800, Valid Loss: 0.3378\n",
      "Epoch [4/10], Loss: 0.2417\n",
      "Epoch [4/10], Valid Accuracy: 93.5400, Valid Loss: 0.2619\n",
      "Epoch [5/10], Loss: 0.2377\n",
      "Epoch [5/10], Valid Accuracy: 94.4000, Valid Loss: 0.2520\n",
      "Epoch [6/10], Loss: 0.2336\n",
      "Epoch [6/10], Valid Accuracy: 94.5600, Valid Loss: 0.2490\n",
      "Epoch [7/10], Loss: 0.2220\n",
      "Epoch [7/10], Valid Accuracy: 93.7500, Valid Loss: 0.2965\n",
      "Epoch [8/10], Loss: 0.2206\n",
      "Epoch [8/10], Valid Accuracy: 94.4700, Valid Loss: 0.2778\n",
      "Epoch [9/10], Loss: 0.2208\n",
      "Epoch [9/10], Valid Accuracy: 94.3800, Valid Loss: 0.3112\n",
      "Epoch [10/10], Loss: 0.2149\n"
     ]
    },
    {
     "name": "stderr",
     "output_type": "stream",
     "text": [
      " 50%|███████████████               | 3/6 [03:21<03:21, 67.33s/it]"
     ]
    },
    {
     "name": "stdout",
     "output_type": "stream",
     "text": [
      "Epoch [10/10], Valid Accuracy: 93.8800, Valid Loss: 0.3147\n",
      "==================================================\n",
      "==================================================\n",
      "Epoch [1/10], Loss: 0.3447\n",
      "Epoch [1/10], Valid Accuracy: 94.5000, Valid Loss: 0.2184\n",
      "Epoch [2/10], Loss: 0.2685\n",
      "Epoch [2/10], Valid Accuracy: 93.1500, Valid Loss: 0.2692\n",
      "Epoch [3/10], Loss: 0.2533\n",
      "Epoch [3/10], Valid Accuracy: 93.6500, Valid Loss: 0.2883\n",
      "Epoch [4/10], Loss: 0.2420\n",
      "Epoch [4/10], Valid Accuracy: 93.0300, Valid Loss: 0.2693\n",
      "Epoch [5/10], Loss: 0.2316\n",
      "Epoch [5/10], Valid Accuracy: 93.2800, Valid Loss: 0.3281\n",
      "Epoch [6/10], Loss: 0.2314\n",
      "Epoch [6/10], Valid Accuracy: 94.3300, Valid Loss: 0.2824\n",
      "Epoch [7/10], Loss: 0.2283\n",
      "Epoch [7/10], Valid Accuracy: 94.4200, Valid Loss: 0.2597\n",
      "Epoch [8/10], Loss: 0.2271\n",
      "Epoch [8/10], Valid Accuracy: 94.1000, Valid Loss: 0.2720\n",
      "Epoch [9/10], Loss: 0.2151\n",
      "Epoch [9/10], Valid Accuracy: 93.7200, Valid Loss: 0.3687\n",
      "Epoch [10/10], Loss: 0.2132\n"
     ]
    },
    {
     "name": "stderr",
     "output_type": "stream",
     "text": [
      " 67%|████████████████████          | 4/6 [04:31<02:16, 68.25s/it]"
     ]
    },
    {
     "name": "stdout",
     "output_type": "stream",
     "text": [
      "Epoch [10/10], Valid Accuracy: 94.4800, Valid Loss: 0.2847\n",
      "==================================================\n",
      "==================================================\n",
      "Epoch [1/10], Loss: 0.3772\n",
      "Epoch [1/10], Valid Accuracy: 92.6600, Valid Loss: 0.2954\n",
      "Epoch [2/10], Loss: 0.2740\n",
      "Epoch [2/10], Valid Accuracy: 92.5200, Valid Loss: 0.4476\n",
      "Epoch [3/10], Loss: 0.2639\n",
      "Epoch [3/10], Valid Accuracy: 92.6500, Valid Loss: 0.3110\n",
      "Epoch [4/10], Loss: 0.2447\n",
      "Epoch [4/10], Valid Accuracy: 94.2500, Valid Loss: 0.2718\n",
      "Epoch [5/10], Loss: 0.2376\n",
      "Epoch [5/10], Valid Accuracy: 94.2000, Valid Loss: 0.2733\n",
      "Epoch [6/10], Loss: 0.2413\n",
      "Epoch [6/10], Valid Accuracy: 94.6400, Valid Loss: 0.2861\n",
      "Epoch [7/10], Loss: 0.2213\n",
      "Epoch [7/10], Valid Accuracy: 94.2000, Valid Loss: 0.3287\n",
      "Epoch [8/10], Loss: 0.2413\n",
      "Epoch [8/10], Valid Accuracy: 94.0300, Valid Loss: 0.3107\n",
      "Epoch [9/10], Loss: 0.2239\n",
      "Epoch [9/10], Valid Accuracy: 93.7600, Valid Loss: 0.3442\n",
      "Epoch [10/10], Loss: 0.2153\n"
     ]
    },
    {
     "name": "stderr",
     "output_type": "stream",
     "text": [
      " 83%|█████████████████████████     | 5/6 [06:40<01:30, 90.14s/it]"
     ]
    },
    {
     "name": "stdout",
     "output_type": "stream",
     "text": [
      "Epoch [10/10], Valid Accuracy: 93.4800, Valid Loss: 0.3741\n",
      "==================================================\n",
      "==================================================\n",
      "Epoch [1/10], Loss: 0.4082\n",
      "Epoch [1/10], Valid Accuracy: 92.8700, Valid Loss: 0.2801\n",
      "Epoch [2/10], Loss: 0.2838\n",
      "Epoch [2/10], Valid Accuracy: 91.6800, Valid Loss: 0.3449\n",
      "Epoch [3/10], Loss: 0.2641\n",
      "Epoch [3/10], Valid Accuracy: 93.3100, Valid Loss: 0.3077\n",
      "Epoch [4/10], Loss: 0.2436\n",
      "Epoch [4/10], Valid Accuracy: 93.3400, Valid Loss: 0.3072\n",
      "Epoch [5/10], Loss: 0.2445\n",
      "Epoch [5/10], Valid Accuracy: 93.9000, Valid Loss: 0.2866\n",
      "Epoch [6/10], Loss: 0.2402\n",
      "Epoch [6/10], Valid Accuracy: 91.8800, Valid Loss: 0.3910\n",
      "Epoch [7/10], Loss: 0.2378\n",
      "Epoch [7/10], Valid Accuracy: 93.6000, Valid Loss: 0.3214\n",
      "Epoch [8/10], Loss: 0.2302\n",
      "Epoch [8/10], Valid Accuracy: 93.6500, Valid Loss: 0.3131\n",
      "Epoch [9/10], Loss: 0.2155\n",
      "Epoch [9/10], Valid Accuracy: 92.9900, Valid Loss: 0.3374\n",
      "Epoch [10/10], Loss: 0.2169\n"
     ]
    },
    {
     "name": "stderr",
     "output_type": "stream",
     "text": [
      "100%|█████████████████████████████| 6/6 [10:25<00:00, 104.20s/it]"
     ]
    },
    {
     "name": "stdout",
     "output_type": "stream",
     "text": [
      "Epoch [10/10], Valid Accuracy: 93.9500, Valid Loss: 0.3212\n",
      "==================================================\n"
     ]
    },
    {
     "name": "stderr",
     "output_type": "stream",
     "text": [
      "\n"
     ]
    }
   ],
   "source": [
    "q2df = find_bt_hl()"
   ]
  },
  {
   "cell_type": "code",
   "execution_count": 44,
   "metadata": {},
   "outputs": [
    {
     "data": {
      "text/html": [
       "<div>\n",
       "<style scoped>\n",
       "    .dataframe tbody tr th:only-of-type {\n",
       "        vertical-align: middle;\n",
       "    }\n",
       "\n",
       "    .dataframe tbody tr th {\n",
       "        vertical-align: top;\n",
       "    }\n",
       "\n",
       "    .dataframe thead th {\n",
       "        text-align: right;\n",
       "    }\n",
       "</style>\n",
       "<table border=\"1\" class=\"dataframe\">\n",
       "  <thead>\n",
       "    <tr style=\"text-align: right;\">\n",
       "      <th></th>\n",
       "      <th>hidden_layer</th>\n",
       "      <th>val_accrarcy</th>\n",
       "    </tr>\n",
       "  </thead>\n",
       "  <tbody>\n",
       "    <tr>\n",
       "      <th>0</th>\n",
       "      <td>10</td>\n",
       "      <td>87.37</td>\n",
       "    </tr>\n",
       "    <tr>\n",
       "      <th>1</th>\n",
       "      <td>50</td>\n",
       "      <td>93.63</td>\n",
       "    </tr>\n",
       "    <tr>\n",
       "      <th>2</th>\n",
       "      <td>100</td>\n",
       "      <td>93.88</td>\n",
       "    </tr>\n",
       "    <tr>\n",
       "      <th>3</th>\n",
       "      <td>300</td>\n",
       "      <td>94.48</td>\n",
       "    </tr>\n",
       "    <tr>\n",
       "      <th>4</th>\n",
       "      <td>1000</td>\n",
       "      <td>93.48</td>\n",
       "    </tr>\n",
       "    <tr>\n",
       "      <th>5</th>\n",
       "      <td>2000</td>\n",
       "      <td>93.95</td>\n",
       "    </tr>\n",
       "  </tbody>\n",
       "</table>\n",
       "</div>"
      ],
      "text/plain": [
       "   hidden_layer  val_accrarcy\n",
       "0            10         87.37\n",
       "1            50         93.63\n",
       "2           100         93.88\n",
       "3           300         94.48\n",
       "4          1000         93.48\n",
       "5          2000         93.95"
      ]
     },
     "execution_count": 44,
     "metadata": {},
     "output_type": "execute_result"
    }
   ],
   "source": [
    "q2df"
   ]
  },
  {
   "cell_type": "markdown",
   "metadata": {},
   "source": [
    "> Intuitively, the larger the hiddent layer, the lower the loss and higher the accuracy, however, the higher the chance the model will over fit. If we were just looking at the last Valid Accuracy, `hidden_layer` with 300 achieves the best final validation accuracy. When we study the in progress statistics carefully, we can see that some of the models (ex. model with hidden layer [1000,2000]) start to over fit on the training set. Their traing loss continuously decreasing in each epoch while their validation losss strated to pop back up and validation accuracy started to decrease. This parabola shape is a clear sign of overfitting\n",
    "---"
   ]
  },
  {
   "cell_type": "markdown",
   "metadata": {},
   "source": [
    "## Models with L2 regularization\n",
    "To add L2 regularization use the `weight_decay` argument on the optimizer"
   ]
  },
  {
   "cell_type": "code",
   "execution_count": 23,
   "metadata": {},
   "outputs": [],
   "source": [
    "# optimizer = optim.Adam(net.parameters(), lr=learning_rate, weight_decay = 0.01)"
   ]
  },
  {
   "cell_type": "code",
   "execution_count": 45,
   "metadata": {},
   "outputs": [],
   "source": [
    "def find_bt_wd():\n",
    "    weight_decay = [0, 0.0001, 0.001, 0.01, 0.1, 0.3]\n",
    "    trainloss = []\n",
    "    validation_loss = []\n",
    "    val_accrarcy =[]\n",
    "    \n",
    "    for w in tqdm(weight_decay):\n",
    "        print('='*50)\n",
    "        net = get_model(M = 300)\n",
    "        optimizer = optim.Adam(net.parameters(), lr=0.001, weight_decay = w)\n",
    "        val_acc, val_loss, train_loss = train_model(train_loader, test_loader, num_epochs=20, model=net, optimizer=optimizer)\n",
    "        \n",
    "        trainloss.append(train_loss)\n",
    "        validation_loss.append(val_loss)\n",
    "        val_accrarcy.append(val_acc)\n",
    "        \n",
    "        print('='*50)\n",
    "    dic = {'weight_decay':weight_decay,\n",
    "           'train_loss':trainloss,\n",
    "           'validation_loss':validation_loss,\n",
    "           'val_accrarcy':val_accrarcy}\n",
    "    return pd.DataFrame.from_dict(dic)"
   ]
  },
  {
   "cell_type": "code",
   "execution_count": 46,
   "metadata": {
    "collapsed": true,
    "jupyter": {
     "outputs_hidden": true
    },
    "tags": []
   },
   "outputs": [
    {
     "name": "stderr",
     "output_type": "stream",
     "text": [
      "  0%|                                      | 0/6 [00:00<?, ?it/s]"
     ]
    },
    {
     "name": "stdout",
     "output_type": "stream",
     "text": [
      "==================================================\n",
      "Epoch [1/20], Loss: 0.2000\n",
      "Epoch [1/20], Valid Accuracy: 97.0400, Valid Loss: 0.0947\n",
      "Epoch [2/20], Loss: 0.0859\n",
      "Epoch [2/20], Valid Accuracy: 97.5000, Valid Loss: 0.0832\n",
      "Epoch [3/20], Loss: 0.0628\n",
      "Epoch [3/20], Valid Accuracy: 97.5600, Valid Loss: 0.0794\n",
      "Epoch [4/20], Loss: 0.0476\n",
      "Epoch [4/20], Valid Accuracy: 97.8000, Valid Loss: 0.0757\n",
      "Epoch [5/20], Loss: 0.0397\n",
      "Epoch [5/20], Valid Accuracy: 97.4100, Valid Loss: 0.0943\n",
      "Epoch [6/20], Loss: 0.0321\n",
      "Epoch [6/20], Valid Accuracy: 97.9800, Valid Loss: 0.0830\n",
      "Epoch [7/20], Loss: 0.0288\n",
      "Epoch [7/20], Valid Accuracy: 97.2000, Valid Loss: 0.1206\n",
      "Epoch [8/20], Loss: 0.0254\n",
      "Epoch [8/20], Valid Accuracy: 97.8600, Valid Loss: 0.0872\n",
      "Epoch [9/20], Loss: 0.0213\n",
      "Epoch [9/20], Valid Accuracy: 97.7100, Valid Loss: 0.0981\n",
      "Epoch [10/20], Loss: 0.0217\n",
      "Epoch [10/20], Valid Accuracy: 97.6500, Valid Loss: 0.1217\n",
      "Epoch [11/20], Loss: 0.0221\n",
      "Epoch [11/20], Valid Accuracy: 97.9000, Valid Loss: 0.1066\n",
      "Epoch [12/20], Loss: 0.0164\n",
      "Epoch [12/20], Valid Accuracy: 97.9300, Valid Loss: 0.1069\n",
      "Epoch [13/20], Loss: 0.0196\n",
      "Epoch [13/20], Valid Accuracy: 98.1600, Valid Loss: 0.1022\n",
      "Epoch [14/20], Loss: 0.0152\n",
      "Epoch [14/20], Valid Accuracy: 97.5500, Valid Loss: 0.1255\n",
      "Epoch [15/20], Loss: 0.0165\n",
      "Epoch [15/20], Valid Accuracy: 97.9300, Valid Loss: 0.1245\n",
      "Epoch [16/20], Loss: 0.0154\n",
      "Epoch [16/20], Valid Accuracy: 97.9300, Valid Loss: 0.1203\n",
      "Epoch [17/20], Loss: 0.0134\n",
      "Epoch [17/20], Valid Accuracy: 98.0200, Valid Loss: 0.1158\n",
      "Epoch [18/20], Loss: 0.0145\n",
      "Epoch [18/20], Valid Accuracy: 97.8700, Valid Loss: 0.1404\n",
      "Epoch [19/20], Loss: 0.0127\n",
      "Epoch [19/20], Valid Accuracy: 97.7300, Valid Loss: 0.1588\n",
      "Epoch [20/20], Loss: 0.0143\n"
     ]
    },
    {
     "name": "stderr",
     "output_type": "stream",
     "text": [
      " 17%|████▊                        | 1/6 [02:20<11:42, 140.41s/it]"
     ]
    },
    {
     "name": "stdout",
     "output_type": "stream",
     "text": [
      "Epoch [20/20], Valid Accuracy: 97.9500, Valid Loss: 0.1400\n",
      "==================================================\n",
      "==================================================\n",
      "Epoch [1/20], Loss: 0.2005\n",
      "Epoch [1/20], Valid Accuracy: 96.9000, Valid Loss: 0.1031\n",
      "Epoch [2/20], Loss: 0.0896\n",
      "Epoch [2/20], Valid Accuracy: 97.2900, Valid Loss: 0.0889\n",
      "Epoch [3/20], Loss: 0.0669\n",
      "Epoch [3/20], Valid Accuracy: 97.6900, Valid Loss: 0.0749\n",
      "Epoch [4/20], Loss: 0.0528\n",
      "Epoch [4/20], Valid Accuracy: 97.2500, Valid Loss: 0.0985\n",
      "Epoch [5/20], Loss: 0.0467\n",
      "Epoch [5/20], Valid Accuracy: 97.3700, Valid Loss: 0.0885\n",
      "Epoch [6/20], Loss: 0.0389\n",
      "Epoch [6/20], Valid Accuracy: 97.8500, Valid Loss: 0.0778\n",
      "Epoch [7/20], Loss: 0.0353\n",
      "Epoch [7/20], Valid Accuracy: 97.9600, Valid Loss: 0.0709\n",
      "Epoch [8/20], Loss: 0.0350\n",
      "Epoch [8/20], Valid Accuracy: 97.3800, Valid Loss: 0.0899\n",
      "Epoch [9/20], Loss: 0.0298\n",
      "Epoch [9/20], Valid Accuracy: 98.0400, Valid Loss: 0.0792\n",
      "Epoch [10/20], Loss: 0.0298\n",
      "Epoch [10/20], Valid Accuracy: 97.8100, Valid Loss: 0.0852\n",
      "Epoch [11/20], Loss: 0.0290\n",
      "Epoch [11/20], Valid Accuracy: 97.1700, Valid Loss: 0.1076\n",
      "Epoch [12/20], Loss: 0.0259\n",
      "Epoch [12/20], Valid Accuracy: 97.7400, Valid Loss: 0.0854\n",
      "Epoch [13/20], Loss: 0.0270\n",
      "Epoch [13/20], Valid Accuracy: 98.1600, Valid Loss: 0.0777\n",
      "Epoch [14/20], Loss: 0.0253\n",
      "Epoch [14/20], Valid Accuracy: 97.7300, Valid Loss: 0.0927\n",
      "Epoch [15/20], Loss: 0.0266\n",
      "Epoch [15/20], Valid Accuracy: 97.4900, Valid Loss: 0.1017\n",
      "Epoch [16/20], Loss: 0.0247\n",
      "Epoch [16/20], Valid Accuracy: 97.6100, Valid Loss: 0.0972\n",
      "Epoch [17/20], Loss: 0.0255\n",
      "Epoch [17/20], Valid Accuracy: 97.5500, Valid Loss: 0.1011\n",
      "Epoch [18/20], Loss: 0.0237\n",
      "Epoch [18/20], Valid Accuracy: 97.7900, Valid Loss: 0.0904\n",
      "Epoch [19/20], Loss: 0.0212\n",
      "Epoch [19/20], Valid Accuracy: 98.0100, Valid Loss: 0.0839\n",
      "Epoch [20/20], Loss: 0.0243\n"
     ]
    },
    {
     "name": "stderr",
     "output_type": "stream",
     "text": [
      " 33%|█████████▋                   | 2/6 [04:42<09:25, 141.31s/it]"
     ]
    },
    {
     "name": "stdout",
     "output_type": "stream",
     "text": [
      "Epoch [20/20], Valid Accuracy: 97.9100, Valid Loss: 0.0879\n",
      "==================================================\n",
      "==================================================\n",
      "Epoch [1/20], Loss: 0.2078\n",
      "Epoch [1/20], Valid Accuracy: 96.6400, Valid Loss: 0.1109\n",
      "Epoch [2/20], Loss: 0.1078\n",
      "Epoch [2/20], Valid Accuracy: 96.3700, Valid Loss: 0.1114\n",
      "Epoch [3/20], Loss: 0.0925\n",
      "Epoch [3/20], Valid Accuracy: 97.0200, Valid Loss: 0.0942\n",
      "Epoch [4/20], Loss: 0.0835\n",
      "Epoch [4/20], Valid Accuracy: 97.2700, Valid Loss: 0.0891\n",
      "Epoch [5/20], Loss: 0.0799\n",
      "Epoch [5/20], Valid Accuracy: 97.5300, Valid Loss: 0.0839\n",
      "Epoch [6/20], Loss: 0.0769\n",
      "Epoch [6/20], Valid Accuracy: 96.6800, Valid Loss: 0.1066\n",
      "Epoch [7/20], Loss: 0.0733\n",
      "Epoch [7/20], Valid Accuracy: 97.1600, Valid Loss: 0.0913\n",
      "Epoch [8/20], Loss: 0.0690\n",
      "Epoch [8/20], Valid Accuracy: 97.5500, Valid Loss: 0.0801\n",
      "Epoch [9/20], Loss: 0.0707\n",
      "Epoch [9/20], Valid Accuracy: 97.3800, Valid Loss: 0.0857\n",
      "Epoch [10/20], Loss: 0.0683\n",
      "Epoch [10/20], Valid Accuracy: 97.4000, Valid Loss: 0.0809\n",
      "Epoch [11/20], Loss: 0.0671\n",
      "Epoch [11/20], Valid Accuracy: 97.4600, Valid Loss: 0.0813\n",
      "Epoch [12/20], Loss: 0.0653\n",
      "Epoch [12/20], Valid Accuracy: 97.7600, Valid Loss: 0.0714\n",
      "Epoch [13/20], Loss: 0.0662\n",
      "Epoch [13/20], Valid Accuracy: 97.6400, Valid Loss: 0.0781\n",
      "Epoch [14/20], Loss: 0.0642\n",
      "Epoch [14/20], Valid Accuracy: 97.4600, Valid Loss: 0.0788\n",
      "Epoch [15/20], Loss: 0.0636\n",
      "Epoch [15/20], Valid Accuracy: 97.7300, Valid Loss: 0.0768\n",
      "Epoch [16/20], Loss: 0.0632\n",
      "Epoch [16/20], Valid Accuracy: 97.4100, Valid Loss: 0.0836\n",
      "Epoch [17/20], Loss: 0.0644\n",
      "Epoch [17/20], Valid Accuracy: 97.6100, Valid Loss: 0.0754\n",
      "Epoch [18/20], Loss: 0.0620\n",
      "Epoch [18/20], Valid Accuracy: 97.0400, Valid Loss: 0.0964\n",
      "Epoch [19/20], Loss: 0.0643\n",
      "Epoch [19/20], Valid Accuracy: 96.6500, Valid Loss: 0.1095\n",
      "Epoch [20/20], Loss: 0.0632\n"
     ]
    },
    {
     "name": "stderr",
     "output_type": "stream",
     "text": [
      " 50%|██████████████▌              | 3/6 [07:02<07:02, 140.80s/it]"
     ]
    },
    {
     "name": "stdout",
     "output_type": "stream",
     "text": [
      "Epoch [20/20], Valid Accuracy: 97.3300, Valid Loss: 0.0819\n",
      "==================================================\n",
      "==================================================\n",
      "Epoch [1/20], Loss: 0.2710\n",
      "Epoch [1/20], Valid Accuracy: 94.6800, Valid Loss: 0.1884\n",
      "Epoch [2/20], Loss: 0.2020\n",
      "Epoch [2/20], Valid Accuracy: 95.2300, Valid Loss: 0.1729\n",
      "Epoch [3/20], Loss: 0.1864\n",
      "Epoch [3/20], Valid Accuracy: 95.0200, Valid Loss: 0.1733\n",
      "Epoch [4/20], Loss: 0.1795\n",
      "Epoch [4/20], Valid Accuracy: 94.9300, Valid Loss: 0.1734\n",
      "Epoch [5/20], Loss: 0.1747\n",
      "Epoch [5/20], Valid Accuracy: 95.6300, Valid Loss: 0.1551\n",
      "Epoch [6/20], Loss: 0.1715\n",
      "Epoch [6/20], Valid Accuracy: 95.9900, Valid Loss: 0.1564\n",
      "Epoch [7/20], Loss: 0.1701\n",
      "Epoch [7/20], Valid Accuracy: 95.6400, Valid Loss: 0.1514\n",
      "Epoch [8/20], Loss: 0.1706\n",
      "Epoch [8/20], Valid Accuracy: 95.7600, Valid Loss: 0.1552\n",
      "Epoch [9/20], Loss: 0.1675\n",
      "Epoch [9/20], Valid Accuracy: 95.7400, Valid Loss: 0.1579\n",
      "Epoch [10/20], Loss: 0.1676\n",
      "Epoch [10/20], Valid Accuracy: 95.4600, Valid Loss: 0.1553\n",
      "Epoch [11/20], Loss: 0.1682\n",
      "Epoch [11/20], Valid Accuracy: 95.7800, Valid Loss: 0.1547\n",
      "Epoch [12/20], Loss: 0.1667\n",
      "Epoch [12/20], Valid Accuracy: 95.5800, Valid Loss: 0.1574\n",
      "Epoch [13/20], Loss: 0.1686\n",
      "Epoch [13/20], Valid Accuracy: 95.6700, Valid Loss: 0.1546\n",
      "Epoch [14/20], Loss: 0.1660\n",
      "Epoch [14/20], Valid Accuracy: 95.3600, Valid Loss: 0.1677\n",
      "Epoch [15/20], Loss: 0.1678\n",
      "Epoch [15/20], Valid Accuracy: 95.6400, Valid Loss: 0.1523\n",
      "Epoch [16/20], Loss: 0.1674\n",
      "Epoch [16/20], Valid Accuracy: 96.2200, Valid Loss: 0.1446\n",
      "Epoch [17/20], Loss: 0.1663\n",
      "Epoch [17/20], Valid Accuracy: 95.5100, Valid Loss: 0.1605\n",
      "Epoch [18/20], Loss: 0.1644\n",
      "Epoch [18/20], Valid Accuracy: 95.5300, Valid Loss: 0.1669\n",
      "Epoch [19/20], Loss: 0.1665\n",
      "Epoch [19/20], Valid Accuracy: 95.6300, Valid Loss: 0.1559\n",
      "Epoch [20/20], Loss: 0.1644\n"
     ]
    },
    {
     "name": "stderr",
     "output_type": "stream",
     "text": [
      " 67%|███████████████████▎         | 4/6 [09:24<04:42, 141.09s/it]"
     ]
    },
    {
     "name": "stdout",
     "output_type": "stream",
     "text": [
      "Epoch [20/20], Valid Accuracy: 95.3400, Valid Loss: 0.1628\n",
      "==================================================\n",
      "==================================================\n",
      "Epoch [1/20], Loss: 0.5365\n",
      "Epoch [1/20], Valid Accuracy: 87.9500, Valid Loss: 0.4816\n",
      "Epoch [2/20], Loss: 0.5007\n",
      "Epoch [2/20], Valid Accuracy: 88.3100, Valid Loss: 0.4597\n",
      "Epoch [3/20], Loss: 0.4883\n",
      "Epoch [3/20], Valid Accuracy: 89.9500, Valid Loss: 0.4542\n",
      "Epoch [4/20], Loss: 0.4792\n",
      "Epoch [4/20], Valid Accuracy: 89.4000, Valid Loss: 0.4479\n",
      "Epoch [5/20], Loss: 0.4766\n",
      "Epoch [5/20], Valid Accuracy: 88.7200, Valid Loss: 0.4611\n",
      "Epoch [6/20], Loss: 0.4724\n",
      "Epoch [6/20], Valid Accuracy: 89.8600, Valid Loss: 0.4470\n",
      "Epoch [7/20], Loss: 0.4713\n",
      "Epoch [7/20], Valid Accuracy: 89.3700, Valid Loss: 0.4453\n",
      "Epoch [8/20], Loss: 0.4704\n",
      "Epoch [8/20], Valid Accuracy: 89.6600, Valid Loss: 0.4517\n",
      "Epoch [9/20], Loss: 0.4694\n",
      "Epoch [9/20], Valid Accuracy: 89.6700, Valid Loss: 0.4530\n",
      "Epoch [10/20], Loss: 0.4683\n",
      "Epoch [10/20], Valid Accuracy: 89.3300, Valid Loss: 0.4549\n",
      "Epoch [11/20], Loss: 0.4686\n",
      "Epoch [11/20], Valid Accuracy: 89.8500, Valid Loss: 0.4413\n",
      "Epoch [12/20], Loss: 0.4685\n",
      "Epoch [12/20], Valid Accuracy: 89.5500, Valid Loss: 0.4390\n",
      "Epoch [13/20], Loss: 0.4680\n",
      "Epoch [13/20], Valid Accuracy: 89.2500, Valid Loss: 0.4478\n",
      "Epoch [14/20], Loss: 0.4683\n",
      "Epoch [14/20], Valid Accuracy: 89.8300, Valid Loss: 0.4452\n",
      "Epoch [15/20], Loss: 0.4673\n",
      "Epoch [15/20], Valid Accuracy: 90.1500, Valid Loss: 0.4364\n",
      "Epoch [16/20], Loss: 0.4674\n",
      "Epoch [16/20], Valid Accuracy: 89.6400, Valid Loss: 0.4429\n",
      "Epoch [17/20], Loss: 0.4660\n",
      "Epoch [17/20], Valid Accuracy: 89.7400, Valid Loss: 0.4420\n",
      "Epoch [18/20], Loss: 0.4669\n",
      "Epoch [18/20], Valid Accuracy: 89.4300, Valid Loss: 0.4468\n",
      "Epoch [19/20], Loss: 0.4659\n",
      "Epoch [19/20], Valid Accuracy: 90.0400, Valid Loss: 0.4398\n",
      "Epoch [20/20], Loss: 0.4657\n"
     ]
    },
    {
     "name": "stderr",
     "output_type": "stream",
     "text": [
      " 83%|████████████████████████▏    | 5/6 [11:46<02:21, 141.40s/it]"
     ]
    },
    {
     "name": "stdout",
     "output_type": "stream",
     "text": [
      "Epoch [20/20], Valid Accuracy: 89.4000, Valid Loss: 0.4610\n",
      "==================================================\n",
      "==================================================\n",
      "Epoch [1/20], Loss: 0.8730\n",
      "Epoch [1/20], Valid Accuracy: 83.8800, Valid Loss: 0.8155\n",
      "Epoch [2/20], Loss: 0.8429\n",
      "Epoch [2/20], Valid Accuracy: 83.6400, Valid Loss: 0.8120\n",
      "Epoch [3/20], Loss: 0.8311\n",
      "Epoch [3/20], Valid Accuracy: 83.3600, Valid Loss: 0.8071\n",
      "Epoch [4/20], Loss: 0.8268\n",
      "Epoch [4/20], Valid Accuracy: 80.9900, Valid Loss: 0.8245\n",
      "Epoch [5/20], Loss: 0.8231\n",
      "Epoch [5/20], Valid Accuracy: 82.3800, Valid Loss: 0.8275\n",
      "Epoch [6/20], Loss: 0.8232\n",
      "Epoch [6/20], Valid Accuracy: 85.9300, Valid Loss: 0.7930\n",
      "Epoch [7/20], Loss: 0.8207\n",
      "Epoch [7/20], Valid Accuracy: 86.0100, Valid Loss: 0.7879\n",
      "Epoch [8/20], Loss: 0.8204\n",
      "Epoch [8/20], Valid Accuracy: 84.0900, Valid Loss: 0.7965\n",
      "Epoch [9/20], Loss: 0.8194\n",
      "Epoch [9/20], Valid Accuracy: 85.6500, Valid Loss: 0.8039\n",
      "Epoch [10/20], Loss: 0.8179\n",
      "Epoch [10/20], Valid Accuracy: 83.4100, Valid Loss: 0.8066\n",
      "Epoch [11/20], Loss: 0.8180\n",
      "Epoch [11/20], Valid Accuracy: 85.3700, Valid Loss: 0.8090\n",
      "Epoch [12/20], Loss: 0.8172\n",
      "Epoch [12/20], Valid Accuracy: 84.0300, Valid Loss: 0.8006\n",
      "Epoch [13/20], Loss: 0.8182\n",
      "Epoch [13/20], Valid Accuracy: 84.7000, Valid Loss: 0.8023\n",
      "Epoch [14/20], Loss: 0.8169\n",
      "Epoch [14/20], Valid Accuracy: 84.6200, Valid Loss: 0.7964\n",
      "Epoch [15/20], Loss: 0.8178\n",
      "Epoch [15/20], Valid Accuracy: 85.0900, Valid Loss: 0.7915\n",
      "Epoch [16/20], Loss: 0.8164\n",
      "Epoch [16/20], Valid Accuracy: 84.6700, Valid Loss: 0.7936\n",
      "Epoch [17/20], Loss: 0.8173\n",
      "Epoch [17/20], Valid Accuracy: 84.4500, Valid Loss: 0.8016\n",
      "Epoch [18/20], Loss: 0.8188\n",
      "Epoch [18/20], Valid Accuracy: 85.0200, Valid Loss: 0.7861\n",
      "Epoch [19/20], Loss: 0.8188\n",
      "Epoch [19/20], Valid Accuracy: 84.7700, Valid Loss: 0.8004\n",
      "Epoch [20/20], Loss: 0.8168\n"
     ]
    },
    {
     "name": "stderr",
     "output_type": "stream",
     "text": [
      "100%|█████████████████████████████| 6/6 [14:07<00:00, 141.22s/it]"
     ]
    },
    {
     "name": "stdout",
     "output_type": "stream",
     "text": [
      "Epoch [20/20], Valid Accuracy: 82.0100, Valid Loss: 0.7894\n",
      "==================================================\n"
     ]
    },
    {
     "name": "stderr",
     "output_type": "stream",
     "text": [
      "\n"
     ]
    }
   ],
   "source": [
    "q3df = find_bt_wd()"
   ]
  },
  {
   "cell_type": "code",
   "execution_count": 47,
   "metadata": {},
   "outputs": [
    {
     "data": {
      "text/html": [
       "<div>\n",
       "<style scoped>\n",
       "    .dataframe tbody tr th:only-of-type {\n",
       "        vertical-align: middle;\n",
       "    }\n",
       "\n",
       "    .dataframe tbody tr th {\n",
       "        vertical-align: top;\n",
       "    }\n",
       "\n",
       "    .dataframe thead th {\n",
       "        text-align: right;\n",
       "    }\n",
       "</style>\n",
       "<table border=\"1\" class=\"dataframe\">\n",
       "  <thead>\n",
       "    <tr style=\"text-align: right;\">\n",
       "      <th></th>\n",
       "      <th>weight_decay</th>\n",
       "      <th>train_loss</th>\n",
       "      <th>validation_loss</th>\n",
       "      <th>val_accrarcy</th>\n",
       "    </tr>\n",
       "  </thead>\n",
       "  <tbody>\n",
       "    <tr>\n",
       "      <th>0</th>\n",
       "      <td>0.0000</td>\n",
       "      <td>0.014269</td>\n",
       "      <td>0.139957</td>\n",
       "      <td>97.95</td>\n",
       "    </tr>\n",
       "    <tr>\n",
       "      <th>1</th>\n",
       "      <td>0.0001</td>\n",
       "      <td>0.024311</td>\n",
       "      <td>0.087868</td>\n",
       "      <td>97.91</td>\n",
       "    </tr>\n",
       "    <tr>\n",
       "      <th>2</th>\n",
       "      <td>0.0010</td>\n",
       "      <td>0.063243</td>\n",
       "      <td>0.081862</td>\n",
       "      <td>97.33</td>\n",
       "    </tr>\n",
       "    <tr>\n",
       "      <th>3</th>\n",
       "      <td>0.0100</td>\n",
       "      <td>0.164367</td>\n",
       "      <td>0.162750</td>\n",
       "      <td>95.34</td>\n",
       "    </tr>\n",
       "    <tr>\n",
       "      <th>4</th>\n",
       "      <td>0.1000</td>\n",
       "      <td>0.465739</td>\n",
       "      <td>0.460966</td>\n",
       "      <td>89.40</td>\n",
       "    </tr>\n",
       "    <tr>\n",
       "      <th>5</th>\n",
       "      <td>0.3000</td>\n",
       "      <td>0.816812</td>\n",
       "      <td>0.789390</td>\n",
       "      <td>82.01</td>\n",
       "    </tr>\n",
       "  </tbody>\n",
       "</table>\n",
       "</div>"
      ],
      "text/plain": [
       "   weight_decay  train_loss  validation_loss  val_accrarcy\n",
       "0        0.0000    0.014269         0.139957         97.95\n",
       "1        0.0001    0.024311         0.087868         97.91\n",
       "2        0.0010    0.063243         0.081862         97.33\n",
       "3        0.0100    0.164367         0.162750         95.34\n",
       "4        0.1000    0.465739         0.460966         89.40\n",
       "5        0.3000    0.816812         0.789390         82.01"
      ]
     },
     "execution_count": 47,
     "metadata": {},
     "output_type": "execute_result"
    }
   ],
   "source": [
    "q3df"
   ]
  },
  {
   "cell_type": "markdown",
   "metadata": {},
   "source": [
    "> Comparing model without weight decay, models with right amount of weight decays can result a slightly higher train loss but lower validation loss while keep a very decent validation accrarcy. It suggests weight decay is an efficient technique to keep model from being overfitting. However, too high of weight decay will lead model to under fit.\n",
    "---"
   ]
  },
  {
   "cell_type": "markdown",
   "metadata": {},
   "source": [
    "## Models with Dropoutappend"
   ]
  },
  {
   "cell_type": "code",
   "execution_count": 28,
   "metadata": {},
   "outputs": [],
   "source": [
    "def get_model_v2(M = 300, p=0):\n",
    "    modules = []\n",
    "    modules.append(nn.Linear(28*28, M))\n",
    "    modules.append(nn.ReLU())\n",
    "    if p > 0:\n",
    "        modules.append(nn.Dropout(p))\n",
    "    modules.append(nn.Linear(M, 10))\n",
    "    return nn.Sequential(*modules) #.cuda()"
   ]
  },
  {
   "cell_type": "code",
   "execution_count": 29,
   "metadata": {},
   "outputs": [],
   "source": [
    "net = get_model_v2(M = 300, p=0.1)\n",
    "optimizer = optim.Adam(net.parameters(), lr=0.01)"
   ]
  },
  {
   "cell_type": "code",
   "execution_count": 30,
   "metadata": {},
   "outputs": [
    {
     "name": "stdout",
     "output_type": "stream",
     "text": [
      "Epoch [1/4], Loss: 0.4092\n",
      "Epoch [1/4], Valid Accuracy: 92.3600, Valid Loss: 0.2726\n",
      "Epoch [2/4], Loss: 0.2700\n",
      "Epoch [2/4], Valid Accuracy: 93.4200, Valid Loss: 0.2824\n",
      "Epoch [3/4], Loss: 0.2559\n",
      "Epoch [3/4], Valid Accuracy: 93.7100, Valid Loss: 0.2585\n",
      "Epoch [4/4], Loss: 0.2410\n",
      "Epoch [4/4], Valid Accuracy: 94.2600, Valid Loss: 0.2413\n"
     ]
    },
    {
     "data": {
      "text/plain": [
       "(94.26, 0.24127505494754295, 0.24099547539621902)"
      ]
     },
     "execution_count": 30,
     "metadata": {},
     "output_type": "execute_result"
    }
   ],
   "source": [
    "train_model(train_loader, test_loader, num_epochs=4, model=net, optimizer=optimizer)"
   ]
  },
  {
   "cell_type": "code",
   "execution_count": 48,
   "metadata": {},
   "outputs": [],
   "source": [
    "def find_bt_dp():\n",
    "    drop_out = np.arange(0,1.1,.2)\n",
    "    trainloss = []\n",
    "    validation_loss = []\n",
    "    val_accrarcy =[]\n",
    "    \n",
    "    for d in tqdm(drop_out):\n",
    "        print('='*50)\n",
    "        net = get_model_v2(M = 300, p=d)\n",
    "        optimizer = optim.Adam(net.parameters(), lr=0.001)\n",
    "        val_acc, val_loss, train_loss = train_model(train_loader, test_loader, num_epochs=20, model=net, optimizer=optimizer)\n",
    "        \n",
    "        trainloss.append(train_loss)\n",
    "        validation_loss.append(val_loss)\n",
    "        val_accrarcy.append(val_acc)\n",
    "        \n",
    "        print('='*50)\n",
    "    dic = {'drop_out':drop_out,\n",
    "           'train_loss':trainloss,\n",
    "           'validation_loss':validation_loss,\n",
    "           'val_accrarcy':val_accrarcy}\n",
    "    return pd.DataFrame.from_dict(dic)"
   ]
  },
  {
   "cell_type": "code",
   "execution_count": 49,
   "metadata": {
    "collapsed": true,
    "jupyter": {
     "outputs_hidden": true
    },
    "tags": []
   },
   "outputs": [
    {
     "name": "stderr",
     "output_type": "stream",
     "text": [
      "  0%|                                      | 0/6 [00:00<?, ?it/s]"
     ]
    },
    {
     "name": "stdout",
     "output_type": "stream",
     "text": [
      "==================================================\n",
      "Epoch [1/20], Loss: 0.1998\n",
      "Epoch [1/20], Valid Accuracy: 96.3500, Valid Loss: 0.1147\n",
      "Epoch [2/20], Loss: 0.0896\n",
      "Epoch [2/20], Valid Accuracy: 97.4700, Valid Loss: 0.0797\n",
      "Epoch [3/20], Loss: 0.0633\n",
      "Epoch [3/20], Valid Accuracy: 97.5600, Valid Loss: 0.0824\n",
      "Epoch [4/20], Loss: 0.0485\n",
      "Epoch [4/20], Valid Accuracy: 97.7000, Valid Loss: 0.0777\n",
      "Epoch [5/20], Loss: 0.0380\n",
      "Epoch [5/20], Valid Accuracy: 97.8300, Valid Loss: 0.0765\n",
      "Epoch [6/20], Loss: 0.0337\n",
      "Epoch [6/20], Valid Accuracy: 97.6600, Valid Loss: 0.0937\n",
      "Epoch [7/20], Loss: 0.0284\n",
      "Epoch [7/20], Valid Accuracy: 97.8800, Valid Loss: 0.0845\n",
      "Epoch [8/20], Loss: 0.0235\n",
      "Epoch [8/20], Valid Accuracy: 97.8800, Valid Loss: 0.0891\n",
      "Epoch [9/20], Loss: 0.0241\n",
      "Epoch [9/20], Valid Accuracy: 98.0500, Valid Loss: 0.0898\n",
      "Epoch [10/20], Loss: 0.0188\n",
      "Epoch [10/20], Valid Accuracy: 97.7900, Valid Loss: 0.1028\n",
      "Epoch [11/20], Loss: 0.0215\n",
      "Epoch [11/20], Valid Accuracy: 97.5900, Valid Loss: 0.1270\n",
      "Epoch [12/20], Loss: 0.0194\n",
      "Epoch [12/20], Valid Accuracy: 98.0200, Valid Loss: 0.0989\n",
      "Epoch [13/20], Loss: 0.0180\n",
      "Epoch [13/20], Valid Accuracy: 97.7700, Valid Loss: 0.1263\n",
      "Epoch [14/20], Loss: 0.0172\n",
      "Epoch [14/20], Valid Accuracy: 98.1100, Valid Loss: 0.1052\n",
      "Epoch [15/20], Loss: 0.0142\n",
      "Epoch [15/20], Valid Accuracy: 97.7700, Valid Loss: 0.1450\n",
      "Epoch [16/20], Loss: 0.0156\n",
      "Epoch [16/20], Valid Accuracy: 98.0000, Valid Loss: 0.1172\n",
      "Epoch [17/20], Loss: 0.0146\n",
      "Epoch [17/20], Valid Accuracy: 98.0300, Valid Loss: 0.1249\n",
      "Epoch [18/20], Loss: 0.0140\n",
      "Epoch [18/20], Valid Accuracy: 97.2800, Valid Loss: 0.1769\n",
      "Epoch [19/20], Loss: 0.0145\n",
      "Epoch [19/20], Valid Accuracy: 98.1300, Valid Loss: 0.1431\n",
      "Epoch [20/20], Loss: 0.0120\n"
     ]
    },
    {
     "name": "stderr",
     "output_type": "stream",
     "text": [
      " 17%|████▊                        | 1/6 [02:19<11:38, 139.79s/it]"
     ]
    },
    {
     "name": "stdout",
     "output_type": "stream",
     "text": [
      "Epoch [20/20], Valid Accuracy: 97.8600, Valid Loss: 0.1480\n",
      "==================================================\n",
      "==================================================\n",
      "Epoch [1/20], Loss: 0.2272\n",
      "Epoch [1/20], Valid Accuracy: 96.6500, Valid Loss: 0.1113\n",
      "Epoch [2/20], Loss: 0.1124\n",
      "Epoch [2/20], Valid Accuracy: 97.3300, Valid Loss: 0.0863\n",
      "Epoch [3/20], Loss: 0.0890\n",
      "Epoch [3/20], Valid Accuracy: 96.9600, Valid Loss: 0.0994\n",
      "Epoch [4/20], Loss: 0.0750\n",
      "Epoch [4/20], Valid Accuracy: 97.7000, Valid Loss: 0.0816\n",
      "Epoch [5/20], Loss: 0.0650\n",
      "Epoch [5/20], Valid Accuracy: 97.6200, Valid Loss: 0.0808\n",
      "Epoch [6/20], Loss: 0.0566\n",
      "Epoch [6/20], Valid Accuracy: 97.8600, Valid Loss: 0.0835\n",
      "Epoch [7/20], Loss: 0.0514\n",
      "Epoch [7/20], Valid Accuracy: 97.5700, Valid Loss: 0.0904\n",
      "Epoch [8/20], Loss: 0.0488\n",
      "Epoch [8/20], Valid Accuracy: 97.5900, Valid Loss: 0.1077\n",
      "Epoch [9/20], Loss: 0.0449\n",
      "Epoch [9/20], Valid Accuracy: 97.5900, Valid Loss: 0.0962\n",
      "Epoch [10/20], Loss: 0.0445\n",
      "Epoch [10/20], Valid Accuracy: 97.7100, Valid Loss: 0.0986\n",
      "Epoch [11/20], Loss: 0.0428\n",
      "Epoch [11/20], Valid Accuracy: 97.9500, Valid Loss: 0.0895\n",
      "Epoch [12/20], Loss: 0.0398\n",
      "Epoch [12/20], Valid Accuracy: 98.0200, Valid Loss: 0.0867\n",
      "Epoch [13/20], Loss: 0.0384\n",
      "Epoch [13/20], Valid Accuracy: 98.0000, Valid Loss: 0.0991\n",
      "Epoch [14/20], Loss: 0.0374\n",
      "Epoch [14/20], Valid Accuracy: 98.1000, Valid Loss: 0.0934\n",
      "Epoch [15/20], Loss: 0.0334\n",
      "Epoch [15/20], Valid Accuracy: 98.1900, Valid Loss: 0.0985\n",
      "Epoch [16/20], Loss: 0.0333\n",
      "Epoch [16/20], Valid Accuracy: 98.1000, Valid Loss: 0.1138\n",
      "Epoch [17/20], Loss: 0.0343\n",
      "Epoch [17/20], Valid Accuracy: 97.9700, Valid Loss: 0.1034\n",
      "Epoch [18/20], Loss: 0.0337\n",
      "Epoch [18/20], Valid Accuracy: 97.6900, Valid Loss: 0.1126\n",
      "Epoch [19/20], Loss: 0.0327\n",
      "Epoch [19/20], Valid Accuracy: 98.1800, Valid Loss: 0.0989\n",
      "Epoch [20/20], Loss: 0.0308\n"
     ]
    },
    {
     "name": "stderr",
     "output_type": "stream",
     "text": [
      " 33%|█████████▋                   | 2/6 [04:40<09:21, 140.42s/it]"
     ]
    },
    {
     "name": "stdout",
     "output_type": "stream",
     "text": [
      "Epoch [20/20], Valid Accuracy: 97.9800, Valid Loss: 0.1090\n",
      "==================================================\n",
      "==================================================\n",
      "Epoch [1/20], Loss: 0.2628\n",
      "Epoch [1/20], Valid Accuracy: 95.5300, Valid Loss: 0.1419\n",
      "Epoch [2/20], Loss: 0.1512\n",
      "Epoch [2/20], Valid Accuracy: 96.9200, Valid Loss: 0.0963\n",
      "Epoch [3/20], Loss: 0.1239\n",
      "Epoch [3/20], Valid Accuracy: 97.4900, Valid Loss: 0.0845\n",
      "Epoch [4/20], Loss: 0.1065\n",
      "Epoch [4/20], Valid Accuracy: 97.7400, Valid Loss: 0.0766\n",
      "Epoch [5/20], Loss: 0.1018\n",
      "Epoch [5/20], Valid Accuracy: 97.5400, Valid Loss: 0.0828\n",
      "Epoch [6/20], Loss: 0.0925\n",
      "Epoch [6/20], Valid Accuracy: 97.6800, Valid Loss: 0.0794\n",
      "Epoch [7/20], Loss: 0.0873\n",
      "Epoch [7/20], Valid Accuracy: 97.8000, Valid Loss: 0.0790\n",
      "Epoch [8/20], Loss: 0.0824\n",
      "Epoch [8/20], Valid Accuracy: 97.8800, Valid Loss: 0.0761\n",
      "Epoch [9/20], Loss: 0.0774\n",
      "Epoch [9/20], Valid Accuracy: 98.0100, Valid Loss: 0.0778\n",
      "Epoch [10/20], Loss: 0.0754\n",
      "Epoch [10/20], Valid Accuracy: 98.1300, Valid Loss: 0.0839\n",
      "Epoch [11/20], Loss: 0.0711\n",
      "Epoch [11/20], Valid Accuracy: 98.2000, Valid Loss: 0.0744\n",
      "Epoch [12/20], Loss: 0.0705\n",
      "Epoch [12/20], Valid Accuracy: 98.1800, Valid Loss: 0.0732\n",
      "Epoch [13/20], Loss: 0.0660\n",
      "Epoch [13/20], Valid Accuracy: 98.3400, Valid Loss: 0.0724\n",
      "Epoch [14/20], Loss: 0.0661\n",
      "Epoch [14/20], Valid Accuracy: 98.0700, Valid Loss: 0.0804\n",
      "Epoch [15/20], Loss: 0.0635\n",
      "Epoch [15/20], Valid Accuracy: 98.0600, Valid Loss: 0.0808\n",
      "Epoch [16/20], Loss: 0.0633\n",
      "Epoch [16/20], Valid Accuracy: 98.2000, Valid Loss: 0.0848\n",
      "Epoch [17/20], Loss: 0.0614\n",
      "Epoch [17/20], Valid Accuracy: 98.2800, Valid Loss: 0.0874\n",
      "Epoch [18/20], Loss: 0.0629\n",
      "Epoch [18/20], Valid Accuracy: 98.2400, Valid Loss: 0.0840\n",
      "Epoch [19/20], Loss: 0.0562\n",
      "Epoch [19/20], Valid Accuracy: 98.2500, Valid Loss: 0.0866\n",
      "Epoch [20/20], Loss: 0.0603\n"
     ]
    },
    {
     "name": "stderr",
     "output_type": "stream",
     "text": [
      " 50%|██████████████▌              | 3/6 [07:01<07:01, 140.48s/it]"
     ]
    },
    {
     "name": "stdout",
     "output_type": "stream",
     "text": [
      "Epoch [20/20], Valid Accuracy: 98.1800, Valid Loss: 0.0902\n",
      "==================================================\n",
      "==================================================\n",
      "Epoch [1/20], Loss: 0.3348\n",
      "Epoch [1/20], Valid Accuracy: 95.4900, Valid Loss: 0.1393\n",
      "Epoch [2/20], Loss: 0.2120\n",
      "Epoch [2/20], Valid Accuracy: 96.8900, Valid Loss: 0.1091\n",
      "Epoch [3/20], Loss: 0.1893\n",
      "Epoch [3/20], Valid Accuracy: 97.1000, Valid Loss: 0.1011\n",
      "Epoch [4/20], Loss: 0.1768\n",
      "Epoch [4/20], Valid Accuracy: 97.1700, Valid Loss: 0.0920\n",
      "Epoch [5/20], Loss: 0.1638\n",
      "Epoch [5/20], Valid Accuracy: 97.4500, Valid Loss: 0.0945\n",
      "Epoch [6/20], Loss: 0.1568\n",
      "Epoch [6/20], Valid Accuracy: 97.5500, Valid Loss: 0.0877\n",
      "Epoch [7/20], Loss: 0.1525\n",
      "Epoch [7/20], Valid Accuracy: 97.5500, Valid Loss: 0.0853\n",
      "Epoch [8/20], Loss: 0.1436\n",
      "Epoch [8/20], Valid Accuracy: 97.6900, Valid Loss: 0.0871\n",
      "Epoch [9/20], Loss: 0.1447\n",
      "Epoch [9/20], Valid Accuracy: 97.5600, Valid Loss: 0.0862\n",
      "Epoch [10/20], Loss: 0.1374\n",
      "Epoch [10/20], Valid Accuracy: 97.8200, Valid Loss: 0.0842\n",
      "Epoch [11/20], Loss: 0.1349\n",
      "Epoch [11/20], Valid Accuracy: 97.5900, Valid Loss: 0.0905\n",
      "Epoch [12/20], Loss: 0.1306\n",
      "Epoch [12/20], Valid Accuracy: 97.6200, Valid Loss: 0.0907\n",
      "Epoch [13/20], Loss: 0.1274\n",
      "Epoch [13/20], Valid Accuracy: 97.9900, Valid Loss: 0.0818\n",
      "Epoch [14/20], Loss: 0.1243\n",
      "Epoch [14/20], Valid Accuracy: 97.8000, Valid Loss: 0.0852\n",
      "Epoch [15/20], Loss: 0.1257\n",
      "Epoch [15/20], Valid Accuracy: 97.8800, Valid Loss: 0.0904\n",
      "Epoch [16/20], Loss: 0.1227\n",
      "Epoch [16/20], Valid Accuracy: 97.9000, Valid Loss: 0.0823\n",
      "Epoch [17/20], Loss: 0.1195\n",
      "Epoch [17/20], Valid Accuracy: 97.6400, Valid Loss: 0.1029\n",
      "Epoch [18/20], Loss: 0.1194\n",
      "Epoch [18/20], Valid Accuracy: 97.7100, Valid Loss: 0.0920\n",
      "Epoch [19/20], Loss: 0.1165\n",
      "Epoch [19/20], Valid Accuracy: 98.0200, Valid Loss: 0.0873\n",
      "Epoch [20/20], Loss: 0.1160\n"
     ]
    },
    {
     "name": "stderr",
     "output_type": "stream",
     "text": [
      " 67%|███████████████████▎         | 4/6 [09:21<04:40, 140.26s/it]"
     ]
    },
    {
     "name": "stdout",
     "output_type": "stream",
     "text": [
      "Epoch [20/20], Valid Accuracy: 97.9400, Valid Loss: 0.0867\n",
      "==================================================\n",
      "==================================================\n",
      "Epoch [1/20], Loss: 0.5267\n",
      "Epoch [1/20], Valid Accuracy: 94.4200, Valid Loss: 0.1863\n",
      "Epoch [2/20], Loss: 0.3851\n",
      "Epoch [2/20], Valid Accuracy: 95.4900, Valid Loss: 0.1474\n",
      "Epoch [3/20], Loss: 0.3554\n",
      "Epoch [3/20], Valid Accuracy: 96.1500, Valid Loss: 0.1367\n",
      "Epoch [4/20], Loss: 0.3404\n",
      "Epoch [4/20], Valid Accuracy: 96.1500, Valid Loss: 0.1298\n",
      "Epoch [5/20], Loss: 0.3253\n",
      "Epoch [5/20], Valid Accuracy: 96.4500, Valid Loss: 0.1259\n",
      "Epoch [6/20], Loss: 0.3177\n",
      "Epoch [6/20], Valid Accuracy: 96.4600, Valid Loss: 0.1321\n",
      "Epoch [7/20], Loss: 0.3182\n",
      "Epoch [7/20], Valid Accuracy: 96.6100, Valid Loss: 0.1272\n",
      "Epoch [8/20], Loss: 0.3074\n",
      "Epoch [8/20], Valid Accuracy: 96.6400, Valid Loss: 0.1245\n",
      "Epoch [9/20], Loss: 0.2997\n",
      "Epoch [9/20], Valid Accuracy: 96.8200, Valid Loss: 0.1208\n",
      "Epoch [10/20], Loss: 0.2982\n",
      "Epoch [10/20], Valid Accuracy: 96.7300, Valid Loss: 0.1210\n",
      "Epoch [11/20], Loss: 0.2971\n",
      "Epoch [11/20], Valid Accuracy: 96.7800, Valid Loss: 0.1262\n",
      "Epoch [12/20], Loss: 0.2954\n",
      "Epoch [12/20], Valid Accuracy: 96.9100, Valid Loss: 0.1289\n",
      "Epoch [13/20], Loss: 0.2889\n",
      "Epoch [13/20], Valid Accuracy: 97.0100, Valid Loss: 0.1212\n",
      "Epoch [14/20], Loss: 0.2844\n",
      "Epoch [14/20], Valid Accuracy: 97.1400, Valid Loss: 0.1215\n",
      "Epoch [15/20], Loss: 0.2925\n",
      "Epoch [15/20], Valid Accuracy: 97.0700, Valid Loss: 0.1199\n",
      "Epoch [16/20], Loss: 0.2829\n",
      "Epoch [16/20], Valid Accuracy: 96.8900, Valid Loss: 0.1269\n",
      "Epoch [17/20], Loss: 0.2825\n",
      "Epoch [17/20], Valid Accuracy: 96.7700, Valid Loss: 0.1303\n",
      "Epoch [18/20], Loss: 0.2798\n",
      "Epoch [18/20], Valid Accuracy: 97.2200, Valid Loss: 0.1267\n",
      "Epoch [19/20], Loss: 0.2754\n",
      "Epoch [19/20], Valid Accuracy: 97.1000, Valid Loss: 0.1283\n",
      "Epoch [20/20], Loss: 0.2706\n"
     ]
    },
    {
     "name": "stderr",
     "output_type": "stream",
     "text": [
      " 83%|████████████████████████▏    | 5/6 [11:41<02:20, 140.14s/it]"
     ]
    },
    {
     "name": "stdout",
     "output_type": "stream",
     "text": [
      "Epoch [20/20], Valid Accuracy: 97.1400, Valid Loss: 0.1232\n",
      "==================================================\n",
      "==================================================\n",
      "Epoch [1/20], Loss: 2.3018\n",
      "Epoch [1/20], Valid Accuracy: 12.2500, Valid Loss: 2.3317\n",
      "Epoch [2/20], Loss: 2.3014\n",
      "Epoch [2/20], Valid Accuracy: 12.4200, Valid Loss: 2.3287\n",
      "Epoch [3/20], Loss: 2.3014\n",
      "Epoch [3/20], Valid Accuracy: 12.4600, Valid Loss: 2.3289\n",
      "Epoch [4/20], Loss: 2.3014\n",
      "Epoch [4/20], Valid Accuracy: 12.4400, Valid Loss: 2.3299\n",
      "Epoch [5/20], Loss: 2.3013\n",
      "Epoch [5/20], Valid Accuracy: 12.2500, Valid Loss: 2.3306\n",
      "Epoch [6/20], Loss: 2.3014\n",
      "Epoch [6/20], Valid Accuracy: 12.3100, Valid Loss: 2.3290\n",
      "Epoch [7/20], Loss: 2.3014\n",
      "Epoch [7/20], Valid Accuracy: 11.9900, Valid Loss: 2.3309\n",
      "Epoch [8/20], Loss: 2.3013\n",
      "Epoch [8/20], Valid Accuracy: 12.4500, Valid Loss: 2.3302\n",
      "Epoch [9/20], Loss: 2.3014\n",
      "Epoch [9/20], Valid Accuracy: 12.4000, Valid Loss: 2.3291\n",
      "Epoch [10/20], Loss: 2.3013\n",
      "Epoch [10/20], Valid Accuracy: 12.2800, Valid Loss: 2.3300\n",
      "Epoch [11/20], Loss: 2.3014\n",
      "Epoch [11/20], Valid Accuracy: 12.1900, Valid Loss: 2.3297\n",
      "Epoch [12/20], Loss: 2.3013\n",
      "Epoch [12/20], Valid Accuracy: 12.4600, Valid Loss: 2.3304\n",
      "Epoch [13/20], Loss: 2.3013\n",
      "Epoch [13/20], Valid Accuracy: 12.7200, Valid Loss: 2.3300\n",
      "Epoch [14/20], Loss: 2.3013\n",
      "Epoch [14/20], Valid Accuracy: 12.4600, Valid Loss: 2.3301\n",
      "Epoch [15/20], Loss: 2.3013\n",
      "Epoch [15/20], Valid Accuracy: 12.2100, Valid Loss: 2.3302\n",
      "Epoch [16/20], Loss: 2.3013\n",
      "Epoch [16/20], Valid Accuracy: 12.0700, Valid Loss: 2.3308\n",
      "Epoch [17/20], Loss: 2.3013\n",
      "Epoch [17/20], Valid Accuracy: 12.7100, Valid Loss: 2.3289\n",
      "Epoch [18/20], Loss: 2.3013\n",
      "Epoch [18/20], Valid Accuracy: 12.4400, Valid Loss: 2.3289\n",
      "Epoch [19/20], Loss: 2.3013\n",
      "Epoch [19/20], Valid Accuracy: 12.2600, Valid Loss: 2.3301\n",
      "Epoch [20/20], Loss: 2.3013\n"
     ]
    },
    {
     "name": "stderr",
     "output_type": "stream",
     "text": [
      "100%|█████████████████████████████| 6/6 [14:00<00:00, 140.02s/it]"
     ]
    },
    {
     "name": "stdout",
     "output_type": "stream",
     "text": [
      "Epoch [20/20], Valid Accuracy: 12.1300, Valid Loss: 2.3304\n",
      "==================================================\n"
     ]
    },
    {
     "name": "stderr",
     "output_type": "stream",
     "text": [
      "\n"
     ]
    }
   ],
   "source": [
    "q4df = find_bt_dp()"
   ]
  },
  {
   "cell_type": "code",
   "execution_count": 50,
   "metadata": {},
   "outputs": [
    {
     "data": {
      "text/html": [
       "<div>\n",
       "<style scoped>\n",
       "    .dataframe tbody tr th:only-of-type {\n",
       "        vertical-align: middle;\n",
       "    }\n",
       "\n",
       "    .dataframe tbody tr th {\n",
       "        vertical-align: top;\n",
       "    }\n",
       "\n",
       "    .dataframe thead th {\n",
       "        text-align: right;\n",
       "    }\n",
       "</style>\n",
       "<table border=\"1\" class=\"dataframe\">\n",
       "  <thead>\n",
       "    <tr style=\"text-align: right;\">\n",
       "      <th></th>\n",
       "      <th>drop_out</th>\n",
       "      <th>train_loss</th>\n",
       "      <th>validation_loss</th>\n",
       "      <th>val_accrarcy</th>\n",
       "    </tr>\n",
       "  </thead>\n",
       "  <tbody>\n",
       "    <tr>\n",
       "      <th>0</th>\n",
       "      <td>0.0</td>\n",
       "      <td>0.011988</td>\n",
       "      <td>0.147957</td>\n",
       "      <td>97.86</td>\n",
       "    </tr>\n",
       "    <tr>\n",
       "      <th>1</th>\n",
       "      <td>0.2</td>\n",
       "      <td>0.030794</td>\n",
       "      <td>0.108993</td>\n",
       "      <td>97.98</td>\n",
       "    </tr>\n",
       "    <tr>\n",
       "      <th>2</th>\n",
       "      <td>0.4</td>\n",
       "      <td>0.060284</td>\n",
       "      <td>0.090248</td>\n",
       "      <td>98.18</td>\n",
       "    </tr>\n",
       "    <tr>\n",
       "      <th>3</th>\n",
       "      <td>0.6</td>\n",
       "      <td>0.115980</td>\n",
       "      <td>0.086745</td>\n",
       "      <td>97.94</td>\n",
       "    </tr>\n",
       "    <tr>\n",
       "      <th>4</th>\n",
       "      <td>0.8</td>\n",
       "      <td>0.270605</td>\n",
       "      <td>0.123154</td>\n",
       "      <td>97.14</td>\n",
       "    </tr>\n",
       "    <tr>\n",
       "      <th>5</th>\n",
       "      <td>1.0</td>\n",
       "      <td>2.301338</td>\n",
       "      <td>2.330360</td>\n",
       "      <td>12.13</td>\n",
       "    </tr>\n",
       "  </tbody>\n",
       "</table>\n",
       "</div>"
      ],
      "text/plain": [
       "   drop_out  train_loss  validation_loss  val_accrarcy\n",
       "0       0.0    0.011988         0.147957         97.86\n",
       "1       0.2    0.030794         0.108993         97.98\n",
       "2       0.4    0.060284         0.090248         98.18\n",
       "3       0.6    0.115980         0.086745         97.94\n",
       "4       0.8    0.270605         0.123154         97.14\n",
       "5       1.0    2.301338         2.330360         12.13"
      ]
     },
     "execution_count": 50,
     "metadata": {},
     "output_type": "execute_result"
    }
   ],
   "source": [
    "q4df"
   ]
  },
  {
   "cell_type": "code",
   "execution_count": 51,
   "metadata": {},
   "outputs": [
    {
     "data": {
      "text/html": [
       "<div>\n",
       "<style scoped>\n",
       "    .dataframe tbody tr th:only-of-type {\n",
       "        vertical-align: middle;\n",
       "    }\n",
       "\n",
       "    .dataframe tbody tr th {\n",
       "        vertical-align: top;\n",
       "    }\n",
       "\n",
       "    .dataframe thead th {\n",
       "        text-align: right;\n",
       "    }\n",
       "</style>\n",
       "<table border=\"1\" class=\"dataframe\">\n",
       "  <thead>\n",
       "    <tr style=\"text-align: right;\">\n",
       "      <th></th>\n",
       "      <th>weight_decay</th>\n",
       "      <th>train_loss</th>\n",
       "      <th>validation_loss</th>\n",
       "      <th>val_accrarcy</th>\n",
       "    </tr>\n",
       "  </thead>\n",
       "  <tbody>\n",
       "    <tr>\n",
       "      <th>0</th>\n",
       "      <td>0.0000</td>\n",
       "      <td>0.014269</td>\n",
       "      <td>0.139957</td>\n",
       "      <td>97.95</td>\n",
       "    </tr>\n",
       "    <tr>\n",
       "      <th>1</th>\n",
       "      <td>0.0001</td>\n",
       "      <td>0.024311</td>\n",
       "      <td>0.087868</td>\n",
       "      <td>97.91</td>\n",
       "    </tr>\n",
       "    <tr>\n",
       "      <th>2</th>\n",
       "      <td>0.0010</td>\n",
       "      <td>0.063243</td>\n",
       "      <td>0.081862</td>\n",
       "      <td>97.33</td>\n",
       "    </tr>\n",
       "    <tr>\n",
       "      <th>3</th>\n",
       "      <td>0.0100</td>\n",
       "      <td>0.164367</td>\n",
       "      <td>0.162750</td>\n",
       "      <td>95.34</td>\n",
       "    </tr>\n",
       "    <tr>\n",
       "      <th>4</th>\n",
       "      <td>0.1000</td>\n",
       "      <td>0.465739</td>\n",
       "      <td>0.460966</td>\n",
       "      <td>89.40</td>\n",
       "    </tr>\n",
       "    <tr>\n",
       "      <th>5</th>\n",
       "      <td>0.3000</td>\n",
       "      <td>0.816812</td>\n",
       "      <td>0.789390</td>\n",
       "      <td>82.01</td>\n",
       "    </tr>\n",
       "  </tbody>\n",
       "</table>\n",
       "</div>"
      ],
      "text/plain": [
       "   weight_decay  train_loss  validation_loss  val_accrarcy\n",
       "0        0.0000    0.014269         0.139957         97.95\n",
       "1        0.0001    0.024311         0.087868         97.91\n",
       "2        0.0010    0.063243         0.081862         97.33\n",
       "3        0.0100    0.164367         0.162750         95.34\n",
       "4        0.1000    0.465739         0.460966         89.40\n",
       "5        0.3000    0.816812         0.789390         82.01"
      ]
     },
     "execution_count": 51,
     "metadata": {},
     "output_type": "execute_result"
    }
   ],
   "source": [
    "q3df"
   ]
  },
  {
   "cell_type": "markdown",
   "metadata": {},
   "source": [
    "> With drop out 0.4 we have the model has the best performance in terms of `val_accrarcy`. We are trading off some train accuracy with better validation performance. Compareing to the model wihtout drop out, appropriate amount of dropout help to increase testing accuracy.\n",
    "\n",
    "> Both weight decay and dropout help model performance in terms of validation/test accuracy."
   ]
  }
 ],
 "metadata": {
  "kernelspec": {
   "display_name": "Python 3 (ipykernel)",
   "language": "python",
   "name": "python3"
  },
  "language_info": {
   "codemirror_mode": {
    "name": "ipython",
    "version": 3
   },
   "file_extension": ".py",
   "mimetype": "text/x-python",
   "name": "python",
   "nbconvert_exporter": "python",
   "pygments_lexer": "ipython3",
   "version": "3.9.10"
  },
  "toc": {
   "nav_menu": {},
   "number_sections": true,
   "sideBar": true,
   "skip_h1_title": false,
   "toc_cell": false,
   "toc_position": {},
   "toc_section_display": "block",
   "toc_window_display": false
  }
 },
 "nbformat": 4,
 "nbformat_minor": 4
}
